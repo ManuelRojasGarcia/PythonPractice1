{
 "cells": [
  {
   "cell_type": "markdown",
   "metadata": {
    "id": "GAVtLKEV4s-M"
   },
   "source": [
    "<div style=\"width: 100%; clear: both;\">\n",
    "    <div style=\"float: left; width: 50%;\">\n",
    "       <img src=\"http://www.uoc.edu/portal/_resources/common/imatges/marca_UOC/UOC_Masterbrand.jpg\", align=\"left\">\n",
    "    </div>\n",
    "</div>\n",
    "\n",
    "<div style=\"float: right; width: 50%;\">\n",
    "    <p style=\"margin: 0; padding-top: 22px; text-align:right;\">22.501 · Fundamentos de Programación</p>\n",
    "    <p style=\"margin: 0; text-align:right;\">Grado en Ciencia de Datos Aplicada</p>\n",
    "    <p style=\"margin: 0; text-align:right; padding-button: 100px;\">Estudios de Informática, Multimedia y Telecomunicaciones</p>\n",
    "</div>\n",
    "\n",
    "</div>\n",
    "<div style=\"width: 100%; clear: both;\">\n",
    "<div style=\"width:100%;\">&nbsp;</div>"
   ]
  },
  {
   "cell_type": "markdown",
   "metadata": {
    "id": "c9AH3mdj4s-P"
   },
   "source": [
    "Programación para *Data Science*\n",
    "============================\n",
    "\n",
    "PEC 2 - Introducción a Python\n",
    "-----------------------------------------------------\n",
    "\n",
    "En este Notebook encontraréis el conjunto de actividades evaluables como PEC de la asignatura. Veréis que cada una de ellas tiene asociada una puntuación, que indica el peso que tiene la actividad sobre la nota final de la PEC. Adicionalmente, hay un ejercicio opcional, que no tiene puntuación dentro de la PEC, pero que se valora al final del semestre de cara a conceder las matrículas de honor y redondear las notas finales. Podréis sacar la máxima nota de la PEC sin necesidad de hacer este ejercicio. El objetivo de este ejercicio es que sirva como pequeño reto para los estudiantes que quieran profundizar en el contenido de la asignatura.\n",
    "\n",
    "Veréis que todas las actividades de la PEC tienen una etiqueta, que indica los recursos necesarios para llevarla a cabo. Hay tres posibles etiquetas:\n",
    "\n",
    "* $\\color{green}{\\text{NM}}$ **Sólo materiales**: las herramientas necesarias para realizar la actividad se pueden encontrar en los materiales de la asignatura.\n",
    "\n",
    "* $\\color{orange}{\\text{EG}}$ **Consulta externa guiada**: la actividad puede requerir hacer uso de herramientas que no se encuentran en los materiales de la asignatura, pero el enunciado contiene indicaciones de dónde o cómo encontrar la información adicional necesaria para resolver la actividad.\n",
    "\n",
    "* $\\color{red}{\\text{EI}}$ **Consulta externa independiente**: la actividad puede requerir hacer uso de herramientas que no se encuentran en los materiales de la asignatura, y el enunciado puede no incluir la descripción de dónde o cómo encontrar esta información adicional. Será necesario que el estudiante busque esta información utilizando los recursos que se han explicado en la asignatura.\n",
    "\n",
    "Es importante notar que estas etiquetas no indican el nivel de dificultad del ejercicio, sino únicamente la necesidad de consulta de documentación externa para su resolución. Además, recordad que las **etiquetas son informativas**, pero podréis consultar referencias externas en cualquier momento (aunque no se indique explícitamente) o puede ser que podáis hacer una actividad sin consultar ningún tipo de documentación. Por ejemplo, para resolver una actividad que sólo requiera los materiales de la asignatura, podéis consultar referencias externas si queréis, ya sea tanto para ayudaros en la resolución como para ampliar el conocimiento!\n",
    "\n",
    "En cuanto a la consulta de documentación externa en la resolución de los ejercicios, recordad **citar siempre la bibliografía utilizada** para resolver cada actividad.\n",
    "\n",
    "---"
   ]
  },
  {
   "cell_type": "markdown",
   "metadata": {
    "id": "Xi4GsjUs4s-Q"
   },
   "source": [
    "Ejercicios y  preguntas teóricas. \n",
    "-------------------------------"
   ]
  },
  {
   "cell_type": "markdown",
   "metadata": {
    "id": "cfGr1d6t4s-R"
   },
   "source": [
    "### Pregunta 1\n",
    "\n",
    "¿Cuál es el resultado de la operación lógica ` 'smile' > 'snake'`? Explica por qué. \n",
    "\n",
    "**Nota**: Consultad en estándar [Unicode](https://es.wikipedia.org/wiki/Unicode) para la codificación de caracteres.**(1 punto)** $\\color{green}{\\text{NM}}$"
   ]
  },
  {
   "cell_type": "code",
   "execution_count": null,
   "metadata": {
    "colab": {
     "base_uri": "https://localhost:8080/"
    },
    "executionInfo": {
     "elapsed": 194,
     "status": "ok",
     "timestamp": 1678784378937,
     "user": {
      "displayName": "Manuel Rojas Garcia",
      "userId": "01932368244221494376"
     },
     "user_tz": -60
    },
    "id": "rxcpMeaj4s-R",
    "outputId": "36d7f767-5766-41ba-b63c-a581c326c969"
   },
   "outputs": [
    {
     "name": "stdout",
     "output_type": "stream",
     "text": [
      "False\n",
      "el valor de unicode de m es 109 y el de n es 110\n"
     ]
    }
   ],
   "source": [
    "# Si buscamos los códigos correspondientes a cada letra en Unicode y comparamos la primeras letras diferentes, podemos descubrir cual es la mayor. \n",
    "# En este caso, el primer caracter diferente es m y n. En una búsqueda rápida encontramos que m tiene un valor de 109 y n de 110.\n",
    "# Comprobamos con unas lineas de código una condicion si es mayor que el otro y que nos de una respuesta booleana, solo con true o false.\n",
    "print('smile'>'snake')\n",
    "print('el valor de unicode de m es', ord('m'), 'y el de n es', ord('n'))  \n",
    "# Como se ve en la consola, el valor snake es mayor que smile dando False al operador relacional mayor que."
   ]
  },
  {
   "cell_type": "markdown",
   "metadata": {
    "id": "jXvKZf0j4s-S"
   },
   "source": [
    "### Ejercicio 1\n",
    "\n",
    "Proporcionad un ejemplo para cada uno de los tipos de variables que se enumeran a continuación:\n",
    "\n",
    "* a) Número impar mayor que  10\n",
    "\n",
    "* b) Número decimal con dos decimales\n",
    "\n",
    "* c) Cadena de caracteres \n",
    "\n",
    "* d) Listado de 4 nombres de personajes de los Simpson.\n",
    "\n",
    "\n",
    "A continuación, calcula el número total de caracteres del apartado `d` usando una función de Python y muestralo por pantalla. **(1.5 puntos)** $\\color{green}{\\text{NM}}$"
   ]
  },
  {
   "cell_type": "code",
   "execution_count": null,
   "metadata": {
    "colab": {
     "base_uri": "https://localhost:8080/"
    },
    "executionInfo": {
     "elapsed": 533,
     "status": "ok",
     "timestamp": 1678865290339,
     "user": {
      "displayName": "Manuel Rojas Garcia",
      "userId": "01932368244221494376"
     },
     "user_tz": -60
    },
    "id": "tDhfJOAW4s-T",
    "outputId": "c86a3d59-7134-498d-9c0e-c703f5203054"
   },
   "outputs": [
    {
     "name": "stdout",
     "output_type": "stream",
     "text": [
      "16\n"
     ]
    }
   ],
   "source": [
    "a = 73\n",
    "b = 5,45\n",
    "c = \"hola mundo\"\n",
    "d = ['Bart','Lisa','Homer','Mou']\n",
    "# La primera variable es un número entero (int), el segundo decimal (float), el tercero una cadena de caracteres (strings) y el último lista (list)\n",
    "cadena = \"\".join(d)\n",
    "total = (len(cadena))\n",
    "print(total)\n",
    "# Para poder contabilizar los caracteres de una list len no nos sirve ya que solo cuenta elementos, debemos convertirlo a una variable string\n",
    "# Usamos la función join para convertirla y nombrarla como una nueva variable, cadena\n",
    "# Esta nueva variable strings si cuenta cada caracter con la función len.\n",
    "# Imprimimos en consola.\n",
    "\n"
   ]
  },
  {
   "cell_type": "markdown",
   "metadata": {
    "id": "Co1on8PK4s-T"
   },
   "source": [
    "### Ejercicio 2\n",
    "\n",
    "Definid la función `multiplicación(x,y)`. Esta función tiene que mostrar por pantalla el producto de los valores `x` y `y`. **(0.5 puntos)**\n",
    "\n",
    "A continuación encontraréis un conjunto de ejemplos de respuestas esperadas (test cases). La primera columna contiene los valores de `x` y la segunda columna contiene los valores de `y`. Ejecutad y mostrad cada uno de los ejemplos por pantalla.**(0.5 puntos)**\n",
    "\n",
    "<center>\n",
    "    \n",
    "|x | y  | Resultado |\n",
    "| :---:          | :---:    |  :---:   |\n",
    "| 4 | 1  | 4 | \n",
    "| -3 | 0   | 0   | \n",
    "| -2 | -4 | 8 |\n",
    "\n",
    "</center>\n",
    "\n",
    "**(1 punto)** $\\color{green}{\\text{NM}}$"
   ]
  },
  {
   "cell_type": "code",
   "execution_count": null,
   "metadata": {
    "colab": {
     "base_uri": "https://localhost:8080/"
    },
    "executionInfo": {
     "elapsed": 193,
     "status": "ok",
     "timestamp": 1678786576559,
     "user": {
      "displayName": "Manuel Rojas Garcia",
      "userId": "01932368244221494376"
     },
     "user_tz": -60
    },
    "id": "Cu66-t8e4s-U",
    "outputId": "f4a5b852-bea9-4994-998b-46d2908e4c86"
   },
   "outputs": [
    {
     "name": "stdout",
     "output_type": "stream",
     "text": [
      "4\n",
      "0\n",
      "8\n"
     ]
    }
   ],
   "source": [
    "def multiplicacion(x,y):\n",
    "  operacion = x*y\n",
    "  print(operacion)\n",
    "multiplicacion(4,1)\n",
    "multiplicacion(-3,0)\n",
    "multiplicacion(-2,-4)\n",
    "\n",
    "#Se define la multiplicacion de x e y, se nombra la variable de la operacion para poder imprimirla.\n",
    "#La operación no da error siempre y cuando se respeten los tabuladores.\n",
    "\n",
    "\n",
    "\n",
    "\n",
    "  \n"
   ]
  },
  {
   "cell_type": "markdown",
   "metadata": {
    "id": "tMMad47M4s-U"
   },
   "source": [
    "### Ejercicio 3\n",
    "Cread el string **ecneSCIicsEcnesci** en una única expresión y utilizando solamente la variable m = `science`.\n",
    "\n",
    "**Nota**: Para resolver este ejercicio tenéis que utilizar las funciones para convertir un string en mayúsculas que podéis consultar en el seguiente [link](https://docs.python.org/3/library/stdtypes.html?highlight=upper#str.upper).\n",
    "**(1 punto)** $\\color{orange}{\\text{EG}}$"
   ]
  },
  {
   "cell_type": "code",
   "execution_count": null,
   "metadata": {
    "colab": {
     "base_uri": "https://localhost:8080/"
    },
    "executionInfo": {
     "elapsed": 304,
     "status": "ok",
     "timestamp": 1678786859209,
     "user": {
      "displayName": "Manuel Rojas Garcia",
      "userId": "01932368244221494376"
     },
     "user_tz": -60
    },
    "id": "ZJY6EJ0F4s-U",
    "outputId": "f761791c-e7bc-4dd5-c2b7-61001752fd63"
   },
   "outputs": [
    {
     "name": "stdout",
     "output_type": "stream",
     "text": [
      "ecneSCIicsEcnesci\n"
     ]
    }
   ],
   "source": [
    "# Primero definimos la variable science\n",
    "m = 'science'\n",
    "# contruimos la palabra nueva a partir de bloques y utilizando upper para mayusculas.\n",
    "n = (m[-1], m[1], m[-3], m[-1],m[0].upper(),m[1].upper(),m[2].upper(),m[2],m[-2],m[0],m[-1].upper(),m[1],m[-3],m[-1],m[0],m[-2],m[2])\n",
    "# Para imprimir sin espacios usamos las comillas. \n",
    "print(''.join(n))"
   ]
  },
  {
   "cell_type": "markdown",
   "metadata": {
    "id": "rZtde6Zh4s-V"
   },
   "source": [
    "### Ejercicio 4\n",
    "\n",
    "Considerando la siguiente lista de nombres de personas `[Sting,Roxanne,Bruce,Morrison,Glen]`, escribe un programa para saber si los siguientes nombres `Roxanne`, `Bono` y`Glen` están contenidos en la lista y muestra el resultado por pantalla. **(1 punto)** $\\color{green}{\\text{NM}}$\n",
    "\n",
    "Escribe otro programa para saber si los nombres **NO** están contenidos en la lista y muestra el resultado por pantalla. **(Opcional)**\n"
   ]
  },
  {
   "cell_type": "code",
   "execution_count": null,
   "metadata": {
    "colab": {
     "base_uri": "https://localhost:8080/"
    },
    "executionInfo": {
     "elapsed": 344,
     "status": "ok",
     "timestamp": 1678865605970,
     "user": {
      "displayName": "Manuel Rojas Garcia",
      "userId": "01932368244221494376"
     },
     "user_tz": -60
    },
    "id": "STIeYlFH4s-V",
    "outputId": "0838c270-6276-477c-9e73-88366083c87b"
   },
   "outputs": [
    {
     "name": "stdout",
     "output_type": "stream",
     "text": [
      "True\n",
      "False\n",
      "True\n",
      "False\n",
      "True\n",
      "False\n"
     ]
    }
   ],
   "source": [
    "#Primero creamos una lista con los nombres que nos indican y les damos una variable a los nombres que nos indican saber si están dentro de la lista\n",
    "lista = ['Sting','Roxanne','Bruce','Morrison','Glen']\n",
    "a = 'Roxanne'\n",
    "b = ' Bono'\n",
    "c = 'Glen'\n",
    "print(a in lista)\n",
    "print(b in lista)\n",
    "print(c in lista)\n",
    "#Usamos la funcion in para saber si esta dentro de la lista, al usar un booleano nos dará un valor true o false de los valores que preguntamos.\n",
    "#Creamos nuevamente la lista de los artistas (aunque no es necesario, ya que lo tenemos declarado arriba),pero al ser un apartado adicional incluyo toda la información\n",
    "#Creamos nuevamente las variable (aunque no es necesario, ya que lo tenemos declarado arriba), pero al ser un apartado adicional incluyo toda la información.\n",
    "lista = ['Sting','Roxanne','Bruce','Morrison','Glen']\n",
    "a = 'Roxanne'\n",
    "b = ' Bono'\n",
    "c = 'Glen'\n",
    "#Imprimos los resultados per ahora usando not in, para saber si no están en la lista\n",
    "print(a not in lista)\n",
    "print(b not in lista)\n",
    "print(c not in lista)"
   ]
  },
  {
   "cell_type": "markdown",
   "metadata": {
    "id": "Lgf5D2iC4s-V"
   },
   "source": [
    "### Ejercicio 5\n",
    "\n",
    "Escribe un programa que asigne tres valores enteros, positivos y diferentes de zero a tres variables con nombre `a`, `b` y `c`. Utiliza las variables definidas anteriormente para evaluar la siguiente expresión matemática. Muestra el resultado por pantalla con dos decimales. \n",
    "\n",
    "b<sup>2</sup> + (a<sup>2</sup> + b*c )<sup>1/3</sup>\n",
    "\n",
    "\n",
    "**(1 punto)** $\\color{green}{\\text{NM}}$"
   ]
  },
  {
   "cell_type": "code",
   "execution_count": null,
   "metadata": {
    "colab": {
     "base_uri": "https://localhost:8080/"
    },
    "executionInfo": {
     "elapsed": 200,
     "status": "ok",
     "timestamp": 1678789320350,
     "user": {
      "displayName": "Manuel Rojas Garcia",
      "userId": "01932368244221494376"
     },
     "user_tz": -60
    },
    "id": "EJnpV-9v4s-V",
    "outputId": "5956bb6b-625a-4357-88fd-7820d19faa9f"
   },
   "outputs": [
    {
     "data": {
      "text/plain": [
       "24.33"
      ]
     },
     "execution_count": 103,
     "metadata": {},
     "output_type": "execute_result"
    }
   ],
   "source": [
    "import random\n",
    "a = random.randint(1,10)\n",
    "b = random.randint(1,10)\n",
    "c = random.randint(1,10)\n",
    "\n",
    "round((b**2+(a**2+b*c))/3,2)\n",
    "\n",
    "#Asigno tres valores enteros, positivos y diferentes a 0 como a/b/c con la función random, utilzo randint para que sean valores enteros y establezco los valores de 1 a 10.\n",
    "#Realizo primero los cálculos y efectivamente son correctos pero aparecen más decimales.\n",
    "#Realizo una consulta y en vez de print uso la función round retorna el valor con solo dos decimales."
   ]
  },
  {
   "cell_type": "markdown",
   "metadata": {
    "id": "Ks1yNxuK4s-V"
   },
   "source": [
    "### Ejercicio 6\n",
    "\n",
    "A partir de la siguiente lista,\n",
    "\n",
    "```A_list = [ 2.5 , \"Data\", \"The devil is in the details\",\"Data\", 10, \"Data\"]```\n",
    "\n",
    "proporciona expresiones que retornen:\n",
    "\n",
    "1. El número de veces que aparece la palabra `Data` en la lista.\n",
    "2. La posición de la primera aparición del valor `Data`.\n",
    "3. La misma lista sin el último elemento.\n",
    "4. Los elementos en la posición senar de la lista. **Opcional**\n",
    "\n",
    "**Nota**: En el notebook de teoría hemos visto que son las listas y algunas operaciones sobre ellas. Para hacer la actividad, necesitaréis investigar algunas operaciones adicionales que podemos realizar sobre listas. Para ello podéis consultar la documentación oficial de Python sobre listas ([intro](https://docs.python.org/3/tutorial/introduction.html#lists) y [más sobre listas](https://docs.python.org/3/tutorial/datastructures.html#more-on-lists)). **(1.5 puntos)** $\\color{green}{\\text{NM}}$"
   ]
  },
  {
   "cell_type": "code",
   "execution_count": null,
   "metadata": {
    "colab": {
     "base_uri": "https://localhost:8080/"
    },
    "executionInfo": {
     "elapsed": 339,
     "status": "ok",
     "timestamp": 1678865898778,
     "user": {
      "displayName": "Manuel Rojas Garcia",
      "userId": "01932368244221494376"
     },
     "user_tz": -60
    },
    "id": "rFlv2sO74s-W",
    "outputId": "2bbfdf25-21ca-41f1-bd8a-90e393a55be8"
   },
   "outputs": [
    {
     "name": "stdout",
     "output_type": "stream",
     "text": [
      "3\n",
      "1\n",
      "[2.5, 'Data', 'The devil is in the details', 'Data', 10]\n",
      "['Data', 'Data', 'Data']\n"
     ]
    }
   ],
   "source": [
    "#Creamos la list con los valores que nos indican en el ejercicio\n",
    "#Imprimimos el primer valor con la funcion count y que solo busque los valores 'data' - imprime los 3 valores donde aparece\n",
    "#Imprimimos la posición de 'data' con la función index comenzando por 0, es decir posición 1 (0 y 1)\n",
    "#Imprimimos la lista desde la posición cero a la 5 eliminando así el últmo valor\n",
    "#Imprimimos la lista usando el valor inicial (1), el valor final (lo dejamos vacio, queremos la lista completa) y el último valor 2 (step, el intervalo), nos interesan los impares (2)\n",
    "A_list = [ 2.5 , \"Data\", \"The devil is in the details\",\"Data\", 10, \"Data\"]\n",
    "print(A_list.count ('Data'))\n",
    "print(A_list.index ('Data'))\n",
    "print(A_list[0:5])\n",
    "print(A_list[1::2])\n",
    "\n"
   ]
  },
  {
   "cell_type": "markdown",
   "metadata": {
    "id": "kYZ5ypiy4s-W"
   },
   "source": [
    "### Ejercicio 7\n",
    "El código que se presenta a continuación no funciona. Corregid los errores y explicad por qué sucede. **(1 punto)** $\\color{green}{\\text{NM}}$"
   ]
  },
  {
   "cell_type": "code",
   "execution_count": null,
   "metadata": {
    "colab": {
     "base_uri": "https://localhost:8080/",
     "height": 235
    },
    "executionInfo": {
     "elapsed": 203,
     "status": "error",
     "timestamp": 1678634994062,
     "user": {
      "displayName": "Manuel Rojas Garcia",
      "userId": "01932368244221494376"
     },
     "user_tz": -60
    },
    "id": "xHudZZO94s-W",
    "outputId": "9c6b6613-9971-4f70-80d8-75cd034d4fa0"
   },
   "outputs": [
    {
     "ename": "NameError",
     "evalue": "ignored",
     "output_type": "error",
     "traceback": [
      "\u001b[0;31m---------------------------------------------------------------------------\u001b[0m",
      "\u001b[0;31mNameError\u001b[0m                                 Traceback (most recent call last)",
      "\u001b[0;32m<ipython-input-114-834255c7b005>\u001b[0m in \u001b[0;36m<module>\u001b[0;34m\u001b[0m\n\u001b[1;32m      1\u001b[0m \u001b[0ma\u001b[0m \u001b[0;34m=\u001b[0m \u001b[0;34m\"Marie_Curie\"\u001b[0m\u001b[0;34m\u001b[0m\u001b[0;34m\u001b[0m\u001b[0m\n\u001b[1;32m      2\u001b[0m \u001b[0;34m\u001b[0m\u001b[0m\n\u001b[0;32m----> 3\u001b[0;31m \u001b[0mname\u001b[0m \u001b[0;34m=\u001b[0m \u001b[0msplit\u001b[0m\u001b[0;34m(\u001b[0m\u001b[0ma\u001b[0m\u001b[0;34m,\u001b[0m\u001b[0;34m)\u001b[0m\u001b[0;34m\u001b[0m\u001b[0;34m\u001b[0m\u001b[0m\n\u001b[0m\u001b[1;32m      4\u001b[0m \u001b[0;34m\u001b[0m\u001b[0m\n\u001b[1;32m      5\u001b[0m \u001b[0mprint\u001b[0m\u001b[0;34m(\u001b[0m\u001b[0mname\u001b[0m\u001b[0;34m)\u001b[0m\u001b[0;34m\u001b[0m\u001b[0;34m\u001b[0m\u001b[0m\n",
      "\u001b[0;31mNameError\u001b[0m: name 'split' is not defined"
     ]
    }
   ],
   "source": [
    "a = \"Marie_Curie\"\n",
    "\n",
    "name = split(a,)\n",
    "\n",
    "print(name)\n",
    "\n",
    "print(surname)"
   ]
  },
  {
   "cell_type": "code",
   "execution_count": null,
   "metadata": {
    "colab": {
     "base_uri": "https://localhost:8080/"
    },
    "executionInfo": {
     "elapsed": 374,
     "status": "ok",
     "timestamp": 1678866125017,
     "user": {
      "displayName": "Manuel Rojas Garcia",
      "userId": "01932368244221494376"
     },
     "user_tz": -60
    },
    "id": "EUPde4SM4s-X",
    "outputId": "adaf4b90-2b60-417a-9187-4db3c7df2109"
   },
   "outputs": [
    {
     "name": "stdout",
     "output_type": "stream",
     "text": [
      "Marie\n",
      "Curie\n"
     ]
    }
   ],
   "source": [
    "#Se corrige la variable name a name, surname y se utiliza split para separarla indicando la separación el guión bajo.\n",
    "#Imprimimos nombre y surname independientemente.\n",
    "\n",
    "name = \"Marie_Curie\"\n",
    "\n",
    "name, surname = name.split(\"_\")\n",
    "\n",
    "print(name)\n",
    "print(surname)"
   ]
  },
  {
   "cell_type": "markdown",
   "metadata": {
    "id": "Tey87TVa4s-X"
   },
   "source": [
    "### Ejercicio 8\n",
    "\n",
    "Cread un fragmento de código que muestre per pantalla `True` si una variable es un string o `False` si la variable es de otra clase.\n",
    "\n",
    "**Nota**: Para resolver este ejercicio podéis usar alguna de las funciones propias de [Python](https://docs.python.org/3/library/functions.html).\n",
    "**(1 punto)** $\\color{orange}{\\text{EG}}$\n"
   ]
  },
  {
   "cell_type": "code",
   "execution_count": null,
   "metadata": {
    "colab": {
     "base_uri": "https://localhost:8080/"
    },
    "executionInfo": {
     "elapsed": 246,
     "status": "ok",
     "timestamp": 1678791327855,
     "user": {
      "displayName": "Manuel Rojas Garcia",
      "userId": "01932368244221494376"
     },
     "user_tz": -60
    },
    "id": "bucgcr6e4s-Y",
    "outputId": "a1702a36-3451-49f8-8291-b22d9f57b1c8"
   },
   "outputs": [
    {
     "name": "stdout",
     "output_type": "stream",
     "text": [
      "True\n",
      "False\n",
      "True\n",
      "False\n"
     ]
    }
   ],
   "source": [
    "#Creamos una lista con valores string, float, int...\n",
    "#Declamaros las variables según su posición en la lista y con la funcion isinstance verificamos si es un str(true) o si no lo es dará valor falso\n",
    "\n",
    "lista = ['hola mundo',14,'aprendiendo', 0,47]\n",
    "\n",
    "Elemento1 = isinstance(lista[0],str)\n",
    "print(Elemento1) \n",
    "Elemento2 = isinstance(lista[1],str)\n",
    "print(Elemento2)\n",
    "Elemento3 = isinstance(lista[2],str)\n",
    "print(Elemento3) \n",
    "Elemento4 = isinstance(lista[3],str)\n",
    "print(Elemento4)\n",
    "\n"
   ]
  }
 ],
 "metadata": {
  "colab": {
   "provenance": []
  },
  "kernelspec": {
   "display_name": "Python 3 (ipykernel)",
   "language": "python",
   "name": "python3"
  },
  "language_info": {
   "codemirror_mode": {
    "name": "ipython",
    "version": 3
   },
   "file_extension": ".py",
   "mimetype": "text/x-python",
   "name": "python",
   "nbconvert_exporter": "python",
   "pygments_lexer": "ipython3",
   "version": "3.9.13"
  }
 },
 "nbformat": 4,
 "nbformat_minor": 1
}
