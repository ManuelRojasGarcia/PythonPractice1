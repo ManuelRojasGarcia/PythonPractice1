{
 "cells": [
  {
   "cell_type": "markdown",
   "metadata": {
    "id": "s62nIi2-9-Q-"
   },
   "source": [
    "<div style=\"width: 100%; clear: both;\">\n",
    "    <div style=\"float: left; width: 50%;\">\n",
    "       <img src=\"http://www.uoc.edu/portal/_resources/common/imatges/marca_UOC/UOC_Masterbrand.jpg\", align=\"left\">\n",
    "    </div>\n",
    "</div>\n",
    "\n",
    "<div style=\"float: right; width: 50%;\">\n",
    "    <p style=\"margin: 0; padding-top: 22px; text-align:right;\">22.501 · Fundamentos de Programación</p>\n",
    "    <p style=\"margin: 0; text-align:right;\">Grado en Ciencia de Datos Aplicada</p>\n",
    "    <p style=\"margin: 0; text-align:right; padding-button: 100px;\">Estudios de Informática, Multimedia y Telecomunicación</p>\n",
    "</div>\n",
    "\n",
    "</div>\n",
    "<div style=\"width: 100%; clear: both;\">\n",
    "<div style=\"width:100%;\">&nbsp;</div>"
   ]
  },
  {
   "cell_type": "markdown",
   "metadata": {
    "id": "sNT4_ezL9-RD"
   },
   "source": [
    "Fundamentos de Programación\n",
    "============================\n",
    "\n",
    "PAC 5 - Enunciado\n",
    "-----------------------------------------------------\n",
    "\n",
    "En este Notebook se encontraréis el conjunto de actividades evaluables como PEC de la asignatura. Veréis que cada una de ellas tiene asociada una puntuación, que indica el peso que tiene la actividad sobre la nota final de la PEC. Adicionalmente, hay un ejercicio opcional, que no tiene puntuación dentro de la PEC, pero que se valora al final del semestre de cara a conceder las matrículas de honor y redondear las notas finales. Podréis sacar la máxima nota de la PAC sin necesidad de hacer este ejercicio. El objetivo de este ejercicio es que sirva como pequeño reto para los estudiantes que quieran profundizar en el contenido de la asignatura.\n",
    "\n",
    "Veréis que todas las actividades de la PEC tienen una etiqueta, que indica los recursos necesarios para llevarla a cabo. Hay tres posibles etiquetas:\n",
    "\n",
    "* <span style=\"font-family: Courier New; background-color: #82b74b; color: #000000; padding: 3px; \">NM</span> **Sólo materiales**: las herramientas necesarias para realizar la actividad se pueden encontrar en los materiales de la asignatura.\n",
    "\n",
    "* <span style = \"font-family: Courier New; background-color: #ffcc5c; color: #000000; padding: 3px; \">EG</span> **Consulta externa guiada**: la actividad puede requerir hacer uso de herramientas que no se encuentran en los materiales de la asignatura, pero el enunciado contiene indicaciones de dónde o cómo encontrar la información adicional necesaria para resolver la actividad.\n",
    "\n",
    "* <span style = \"font-family: Courier New; background-color: #f2ae72; color: #000000; padding: 3px;\">EI</span> **Consulta externa independiente**: la actividad puede requerir hacer uso de herramientas que no se encuentran en los materiales de la asignatura, y el enunciado puede no incluir la descripción de dónde o cómo encontrar esta información adicional. Será necesario que el estudiante busque esta información utilizando los recursos que se han explicado en la asignatura.\n",
    "\n",
    "Es importante notar que estas etiquetas no indican el nivel de dificultad del ejercicio, sino únicamente la necesidad de consulta de documentación externa para su resolución. Además, recordad que las **etiquetas son informativas**, pero podréis consultar referencias externas en cualquier momento (aunque no se indique explícitamente) o puede ser que podáis hacer una actividad sin consultar ningún tipo de documentación. Por ejemplo, para resolver una actividad que sólo requiera los materiales de la asignatura, puedéis consultar referencias externas si queréis, ya sea tanto para ayudaros en la resolución como para ampliar el conocimiento!\n",
    "\n",
    "En cuanto a la consulta de documentación externa en la resolución de los ejercicios, recordad **citar siempre la bibliografía utilizada** para resolver cada actividad.\n",
    "\n",
    "---"
   ]
  },
  {
   "cell_type": "markdown",
   "metadata": {
    "id": "XdHSkmq89-RE"
   },
   "source": [
    "## Ejercicios para la PEC\n",
    "\n",
    "A continuación encontraréis los ejercicios que se deben completar en esta PEC y que forman parte de la evaluación de esta unidad."
   ]
  },
  {
   "cell_type": "markdown",
   "metadata": {
    "id": "K_zcKNWT9-RF"
   },
   "source": [
    "### Ejercicio 1\n",
    " "
   ]
  },
  {
   "cell_type": "markdown",
   "metadata": {
    "id": "EmsDQkk69-RF"
   },
   "source": [
    "La respuesta recibida después de realizar una petición a una web API http es un objeto que contiene, entre otros, los siguientes atributos: **status.code**, **content** y **headers**.  Describe qué información contiene cada uno de los atributos anteriormente enumerados y pon un ejemplo de cada uno. \n",
    "\n",
    "Recordad que hay que citar las referencias consultadas para responder la pregunta, y que la respuesta que proporcionéis debe ser original (redactada por vosotros mismos, después de haber leído y entendido las referencias que consideréis oportunas). \n",
    "\n",
    "**(1 punto)** <span style=\"font-family: Courier New; background-color: #82b74b; color: #000000; padding: 3px; \">NM</span>"
   ]
  },
  {
   "cell_type": "code",
   "execution_count": null,
   "metadata": {
    "id": "F0kvriwg9-RG"
   },
   "outputs": [],
   "source": [
    "#status.code:\n",
    "\n",
    "# Es un diccionario de los códigos de error más comunes de una pagina web, por ejemplo 404.\n",
    "# Referencia para los errores más comunes https://www.antiun.com/status-code/#:~:text=El%20status%20code%20(c%C3%B3digo%20de,nuestro%20navegador%20una%20direcci%C3%B3n%20web.\n",
    "# Segunda referencia https://www.geeksforgeeks.org/response-status_code-python-requests/\n",
    "# Ejemplo - 200 que significa que esta OK. \"entendida, enviada y recibida\"\n",
    "#content:\n",
    "\n",
    "#El contenido en si, puede ser cualquier tipo de datos, por ejemplo una imagen.\n",
    "# https://www.youtube.com/watch?v=tb8gHvYlCFs en el minutos 6 se utiliza content sobre una imagen, dando un ejemplo claro que content devuelve el tipo de dato.\n",
    "#headers:\n",
    "\n",
    "# Se utiliza para definir el encabezado de la página (Apuntes), pero puede incluir información adicional, como el tipo de contenido, longitud....\n",
    "# https://www.youtube.com/watch?v=tb8gHvYlCFs en el mismo video anterior min. 9:20 se indica claramente los headers de la web que se esta explorando.\n",
    "# Ejemplo last-modified \"Monday 1-2019\" indicando cuando fue la última modificación.\n"
   ]
  },
  {
   "cell_type": "markdown",
   "metadata": {
    "id": "cA7k2J3c9-RH"
   },
   "source": [
    "### Ejercicio 2"
   ]
  },
  {
   "cell_type": "markdown",
   "metadata": {
    "id": "iAh9nAzm9-RI"
   },
   "source": [
    "Implemente una o varias funciones para obtener la **secuencia de ADN** del organismo *Homo sapiens* del cromosoma mitocondrial  (**chrM**) desde la posición 10000 hasta 10050 por la referencia **hg38**. \n",
    "\n",
    "Para ello utilice la API de [UCSC](https://genome.ucsc.edu/goldenPath/help/api.html). \n",
    "\n",
    "\n",
    "\n",
    "**Nota**: El genoma de una célula es un repositorio de secuencias de ADN (ácido desoxiribonucleico) empaquetado en forma de cromosoma. El ADN es un ácido nucleico que contiene la información genética que dirige el desarrollo y funcionamiento de todos los seres vivos. El ADN puede entenderse como una secuencia de nucleótidos (A,C,T y G) de cierta longitud. Este material hereditario codifica los genes que, una vez descifrados, son indispensables por la síntesis de las proteínas.\n",
    "\n",
    "Un genoma de referencia es la representación de la secuencia de ADN del genoma de una especie. En el caso del organismo Homo sapiens, existen diferentes versiones del genoma de referencia. La última versión, hg38, se publicó en 2014 y es la más detallada y precisa.\n",
    "\n",
    "UCSC es un navegador de la Universidad de Santa Cruz de California que ofrece acceso a datos de secuencias de genomas y su correspondiente anotación (genes, mRNAs, CpG,..) de una gran variedad de organismos, vertebrados e invertebrados.\n",
    "\n",
    "Referencia: [Genómica Computacional](https://www.editorialuoc.com/genomica-computacional). Enrique Blanco. Barcelona, Universidad Abierta de Cataluña, 2011.\n",
    "\n",
    "**Importante**: No es necesario entender toda la información que podemos obtener a través de la API del UCSC. Fíjese con lo que le pide el enunciado (prestando especial atención a las palabras clave en negrita), y revise los ejemplos de acceso a datos que hay en la web de la [UCSC](https://genome.ucsc.edu/goldenPath/help/api.html).\n",
    "\n",
    "**(1,5 puntos)** <span style=\"font-family: Courier New; background-color: #ffcc5c; color: #000000; padding: 2px; \">EG</span>"
   ]
  },
  {
   "cell_type": "code",
   "execution_count": null,
   "metadata": {
    "colab": {
     "base_uri": "https://localhost:8080/"
    },
    "executionInfo": {
     "elapsed": 230,
     "status": "ok",
     "timestamp": 1683845578318,
     "user": {
      "displayName": "Manuel Rojas Garcia",
      "userId": "01932368244221494376"
     },
     "user_tz": -120
    },
    "id": "LOkSvMCu9-RI",
    "outputId": "bdccbd12-87f8-4fd9-caf8-84d1175e2cb8"
   },
   "outputs": [
    {
     "name": "stdout",
     "output_type": "stream",
     "text": [
      "Secuencia de ADN: TATAAATAGTACCGTTAACTTCCAATTAACTAGTTTTGACAACATTCAAA\n"
     ]
    }
   ],
   "source": [
    "#Se utiliza el ejemplo de los ejercicios resueltos.\n",
    "#Se cambia la web con f para indicar entre corchetes los valores que se indican en el ejercicio y dando sus valores\n",
    "\n",
    "import requests\n",
    "import json\n",
    "\n",
    "def parse_response(response):\n",
    "    data = None\n",
    "    if response.status_code == 200:\n",
    "        # Data is formatted as JSON but received as string. Load it as JSON object\n",
    "        data = json.loads(response.content)\n",
    "\n",
    "    # Raise an error otherwise\n",
    "    else:\n",
    "        raise Exception(\"Unexpected response (%s: %s).\" %\n",
    "                        (response.status_code, response.reason))\n",
    "\n",
    "    return data\n",
    "\n",
    "def get_sequence_UCSC(genome_ref, chrom, start, end):\n",
    "    web = f'https://api.genome.ucsc.edu/getData/sequence?genome={genome_ref};chrom={chrom};start={start};end={end}'\n",
    "    \n",
    "    \n",
    "    response = requests.get(web) \n",
    "    data = response.json()\n",
    "    dna = data.get('dna')\n",
    "    return dna\n",
    "\n",
    "genome_ref = 'hg38'\n",
    "chrom = 'chrM'\n",
    "start = '10000'\n",
    "end = '10050'\n",
    "\n",
    "sequence_data = get_sequence_UCSC(genome_ref, chrom, start, end)\n",
    "\n",
    "print('Secuencia de ADN:', sequence_data)"
   ]
  },
  {
   "cell_type": "markdown",
   "metadata": {
    "id": "wD1nE0Wr9-RJ"
   },
   "source": [
    "### Ejercicio 3"
   ]
  },
  {
   "cell_type": "markdown",
   "metadata": {
    "id": "rBQ5ekl39-RJ"
   },
   "source": [
    "Programa una función que devuelva el estado meteorológico actual a partir de una localización dada, especificada por su código postal **zip code** y código de país (e.g: us, uk, es, fr, etc).\n",
    "\n",
    "La función debe devolver lista de tuplas de dos elementos, correspondientes al resumen del estado actual del tiempo **weather.main** ya la descripción extendida **weather.description**.\n",
    "\n",
    "Utiliza la API de [openweathermap](https://openweathermap.org/current) para obtener las predicciones.\n",
    "\n",
    "Para poder utilizar la API necesitarás registrarte y obtener una API key. Pueds registrarte  [aquí](https://home.openweathermap.org/users/sign_up) y obtener tu API key [aquí](https://home.openweathermap.org/api_keys) una vez registrados.\n",
    "\n",
    "Tened en cuenta que la API key puede tardar un tiempo en funcionar una vez registrados, y que durante este tiempo la llamada puede dar un error 401 conforme la clave no es válida:\n",
    "\n",
    "`{\"cod\":401, \"message\": \"Invalid API key. Please see http://openweathermap.org/faq#error401 for more info.\"}`\n",
    "\n",
    "\n",
    "**Pistas**:\n",
    "\n",
    "- Veréis que por lo general la API está documentada sin incluir la API Key, pero esta es necesaria. Deberéis incluir la API key en la llamada como uno de los parámetros de la URL (`&appid=your_api_key`):\n",
    "\n",
    "      http://example_url.com?param1=value1&param2=value2&appid=your_api_key\n",
    "    \n",
    "\n",
    "- Os animamos a que sigáis  el proceso de registro para aprender de qué se trata y cómo se generan API Keys. Os proporcionamos una API Key de ejemplo por si tenéis problemas con el proceso.\n",
    "\n",
    "      owm_api_key = 'd54f26dbcf6d4136bc0ef8ba5f07825b'\n",
    "      \n",
    "**(1.5 puntos)** <span style=\"font-family: Courier New; background-color: #ffcc5c; color: #000000; padding: 2px; \">EG</span>"
   ]
  },
  {
   "cell_type": "code",
   "execution_count": null,
   "metadata": {
    "colab": {
     "base_uri": "https://localhost:8080/"
    },
    "executionInfo": {
     "elapsed": 543,
     "status": "ok",
     "timestamp": 1683845761548,
     "user": {
      "displayName": "Manuel Rojas Garcia",
      "userId": "01932368244221494376"
     },
     "user_tz": -120
    },
    "id": "cjHwb1qL9-RK",
    "outputId": "5b6b9b73-d865-4735-8eef-84e1dfef8103"
   },
   "outputs": [
    {
     "name": "stdout",
     "output_type": "stream",
     "text": [
      "El tiempo en Collado Villalba es: [('Clear', 'clear sky')]\n"
     ]
    }
   ],
   "source": [
    "#Se realiza la contraseña de la API correctamente como se indica en el ejercicio.\n",
    "#Seguimos con los datos del ejercicio anterior para el status code\n",
    "#Para la segunda funcion se usa los apuntes de ejercicios resueltos, cambiando los datos indicados en el ejercicio.\n",
    "#El código postal es de Collado Villalba, Madrid\n",
    "\n",
    "import json\n",
    "import requests\n",
    "\n",
    "\n",
    "def parse_response(response):\n",
    "    data = None\n",
    "    if response.status_code == 200:\n",
    "        # Data is formatted as JSON but received as string. Load it as JSON object\n",
    "        data = json.loads(response.content)\n",
    "\n",
    "    # Raise an error otherwise\n",
    "    else:\n",
    "        raise Exception(\"Unexpected response (%s: %s).\" %\n",
    "                        (response.status_code, response.reason))\n",
    "\n",
    "    return data\n",
    "\n",
    "def get_weather_zip(zip_code, country, api_key):\n",
    "    # Query the data from the API\n",
    "    base_url = 'http://api.openweathermap.org/data/2.5/weather?zip=%s,%s&appid=%s'\n",
    "\n",
    "    # We also add the API KEY to the request\n",
    "    response = requests.get(base_url % (zip_code, country, api_key))\n",
    "\n",
    "    # Check the response code and act accordingly\n",
    "    data = parse_response(response)\n",
    "\n",
    "    # If the data was properly processed\n",
    "    if data:\n",
    "        weather = data.get('weather')\n",
    "        r = [(w.get('main'), w.get('description')) for w in weather]\n",
    "    else:\n",
    "        raise Exception(\"Couldn't get weather data.\")\n",
    "\n",
    "    return r\n",
    "\n",
    "\n",
    "api_key = '79c0735f402232444b4adccd5e7eb949'\n",
    "zip_code = '28400'\n",
    "country_code = 'es'\n",
    "weather_data = get_weather_zip(zip_code, country_code, api_key)\n",
    "\n",
    "print('El tiempo en Collado Villalba es:',weather_data)\n"
   ]
  },
  {
   "cell_type": "markdown",
   "metadata": {
    "id": "2XbHWPVV9-RL"
   },
   "source": [
    "b) Encuentra el tiempo para estos códigos postales de España. \n",
    "\n",
    "`cps = [\"11380\", \"38111\", \"48003\", \"08800\"]`\n",
    "\n",
    "\n",
    "**(0.5 puntos)** <span style=\"font-family: Courier New; background-color: #82b74b; color: #000000; padding: 3px; \">NM</span>\n",
    "\n"
   ]
  },
  {
   "cell_type": "code",
   "execution_count": null,
   "metadata": {
    "colab": {
     "base_uri": "https://localhost:8080/"
    },
    "executionInfo": {
     "elapsed": 2589,
     "status": "ok",
     "timestamp": 1683846964331,
     "user": {
      "displayName": "Manuel Rojas Garcia",
      "userId": "01932368244221494376"
     },
     "user_tz": -120
    },
    "id": "6th67k-z9-RM",
    "outputId": "49c274e8-a17a-4924-e43c-6c1d7db07d25"
   },
   "outputs": [
    {
     "name": "stdout",
     "output_type": "stream",
     "text": [
      "El tiempo en el CP11380 es: [('Clouds', 'broken clouds')]\n",
      "El tiempo en el CP38111 es: [('Clouds', 'broken clouds')]\n",
      "El tiempo en el CP48003 es: [('Clouds', 'broken clouds')]\n",
      "El tiempo en el CP08800 es: [('Clear', 'clear sky')]\n"
     ]
    }
   ],
   "source": [
    "#Seguimos con el código anterior pero para poder incluir varios códigos postales debemos cambiar la variable de la web con f\n",
    "#Para que no tengamos fallo los códigos postales debemos hacer un bucle for recorriendo todos los zip_codes.\n",
    "import json\n",
    "import requests\n",
    "\n",
    "def parse_response(response):\n",
    "    data = None\n",
    "    if response.status_code == 200:\n",
    "        # Data is formatted as JSON but received as string. Load it as JSON object\n",
    "        data = json.loads(response.content)\n",
    "\n",
    "    # Raise an error otherwise\n",
    "    else:\n",
    "        raise Exception(\"Unexpected response (%s: %s).\" %\n",
    "                        (response.status_code, response.reason))\n",
    "\n",
    "    return data\n",
    "\n",
    "def get_weather_zip(zip_codes, country, api_key):\n",
    "    weather_data = []\n",
    "    \n",
    "    for zip_code in zip_codes:\n",
    "        # Query the data from the API for each zip code\n",
    "        base_url = f'https://api.openweathermap.org/data/2.5/weather?zip={zip_code},{country}&appid={api_key}'\n",
    "        response = requests.get(base_url)\n",
    "        data = parse_response(response)\n",
    "        \n",
    "        # If the data was properly processed\n",
    "        if data:\n",
    "            weather = data.get('weather')\n",
    "            r = [(w.get('main'), w.get('description')) for w in weather]\n",
    "            weather_data.append(r)\n",
    "        else:\n",
    "            raise Exception(f\"Couldn't get weather data for zip code: {zip_code}\")\n",
    "\n",
    "    return weather_data\n",
    "\n",
    "\n",
    "api_key = '79c0735f402232444b4adccd5e7eb949'\n",
    "zip_codes = [\"11380\", \"38111\", \"48003\", \"08800\"]\n",
    "country_code = 'es'\n",
    "weather_data = get_weather_zip(zip_codes, country_code, api_key)\n",
    "\n",
    "print('El tiempo en el CP11380 es:',weather_data[0])\n",
    "print('El tiempo en el CP38111 es:',weather_data[1])\n",
    "print('El tiempo en el CP48003 es:',weather_data[2])\n",
    "print('El tiempo en el CP08800 es:',weather_data[3])"
   ]
  },
  {
   "cell_type": "markdown",
   "metadata": {
    "id": "WLegSnKM9-RM"
   },
   "source": [
    "### Ejercicio 4"
   ]
  },
  {
   "cell_type": "markdown",
   "metadata": {
    "id": "N3LTEPWY9-RM"
   },
   "source": [
    "Para cada una de las siguientes direcciones:\n",
    "\n",
    "1. https://zombo.com\n",
    "1. https://www.pixelsfighting.com\n",
    "1. http://hasthelargehadroncolliderdestroyedtheworldyet.com\n",
    "1. https://api.fbi.gov/wanted/v1/list\n",
    "\n",
    "Llama a cada dirección con `query.get()`, y muestra:\n",
    "\n",
    "- El código de `status.code`.\n",
    "- Si aplica, el contenido de la dirección web, limitando la salida hasta 500 caracteres\n",
    "\n",
    "Accede a cada una de las direcciones con tu ordenador y observa el contenido en el navegador con el texto de la web. ¿Cuál es la diferencia en el contenido de la cuarta dirección respecto a las tres primeras?\n",
    "\n",
    "**(1.5  puntos)** <span style=\"font-family: Courier New; background-color: #82b74b; color: #000000; padding: 3px; \">NM</span>"
   ]
  },
  {
   "cell_type": "code",
   "execution_count": null,
   "metadata": {
    "colab": {
     "base_uri": "https://localhost:8080/"
    },
    "executionInfo": {
     "elapsed": 1839,
     "status": "ok",
     "timestamp": 1683846534869,
     "user": {
      "displayName": "Manuel Rojas Garcia",
      "userId": "01932368244221494376"
     },
     "user_tz": -120
    },
    "id": "8XFmaeXK9-RN",
    "outputId": "f0740995-f2bd-4ede-cdfc-ee24238ee705"
   },
   "outputs": [
    {
     "name": "stdout",
     "output_type": "stream",
     "text": [
      "<Response [200]>\n",
      "URL: https://zombo.com\n",
      "Status code: 200\n",
      "Content: <!DOCTYPE html PUBLIC \"-//W3C//DTD XHTML 1.0 Transitional//EN\" \"http://www.w3.org/TR/xhtml1/DTD/xhtml1-transitional.dtd\">\n",
      "<html xmlns=\"http://www.w3.org/1999/xhtml\">\n",
      "<head>\n",
      "<meta http-equiv=\"Content-Type\" content=\"text/html; charset=utf-8\" />\n",
      "<title>ZOMBO</title>\n",
      "<link href=\"zombo.css\" rel=\"stylesheet\" type=\"text/css\" />\n",
      "\n",
      "<link href=\"https://maxcdn.bootstrapcdn.com/font-awesome/4.2.0/css/font-awesome.min.css\" rel=\"stylesheet\">\n",
      "\n",
      "\n",
      "<!--responsive stuff added here-->\n",
      "\n",
      "<meta name=\"viewport\" content=\"\n",
      "<Response [200]>\n",
      "URL: https://www.pixelsfighting.com\n",
      "Status code: 200\n",
      "Content: \n",
      "<!--PIXELS FIGHTING by Jan Tewes Thede | @jtthede -->\n",
      "<html>\n",
      "    <title>PIXELS FIGHTING</title>\n",
      "\n",
      " <head>\n",
      " \t<meta property=\"og:image\" content=\"http://fakeyou.libra.uberspace.de/Bild3.jpg\">\n",
      " \t<meta property=\"og:type\" content=\"website\">\n",
      " \t<meta property=\"og:title\" content=\"PIXELS FIGHTING\">\n",
      " \t<meta property=\"og:url\" content=\"http://www.pixelsfighting.com\">\n",
      " \t<script type=\"text/javascript\">\n",
      "\n",
      "  var _gaq = _gaq || [];\n",
      "  _gaq.push(['_setAccount', 'UA-36545784-1']);\n",
      "  _gaq.push(['_trackPageview']);\n",
      "\n",
      "  \n",
      "<Response [200]>\n",
      "URL: http://hasthelargehadroncolliderdestroyedtheworldyet.com\n",
      "Status code: 200\n",
      "Content: <html>\n",
      "<head>\n",
      "<style type=\"text/css\">\n",
      "body {\n",
      "background-color: #000;\n",
      "color: #fff;\n",
      "font-family:arial,helvetica;\n",
      "font-size:5em;\n",
      "text-align: center;\n",
      "}\n",
      "#main {\n",
      "margin: 0px auto;\n",
      "margin-top: 150px;\n",
      "width: 350px;\n",
      "text-align:center;\n",
      "}\n",
      "</style>\n",
      "<title>Has the Large Hadron Collider destroyed the world yet?</title>\n",
      "<link rel=\"alternate\" type=\"application/atom+xml\" title=\"Recent Entries\"\n",
      "href=\"http://www.hasthelargehadroncolliderdestroyedtheworldyet.com/atom.xml\" />\n",
      "</head>\n",
      "<body>\n",
      "<div id=\"main\">\n",
      "<script t\n",
      "<Response [200]>\n",
      "URL: https://api.fbi.gov/wanted/v1/list\n",
      "Status code: 200\n",
      "Content: <html><body>{'total': 963, 'items': [{'files': [{'url': 'https://www.fbi.gov/wanted/murders/danny-liggett/download.pdf', 'name': 'English'}], 'age_range': None, 'uid': '6d73241687164e13ba6ce5f8b313d8d7', 'weight': '145 to 155 pounds', 'occupations': None, 'field_offices': ['newyork'], 'locations': None, 'reward_text': 'The FBI is offering a reward of up to $25,000 for information leading to the arrest of Danny Liggett.', 'sex': 'Male', 'hair': 'brown', 'ncic': 'W484643680', 'dates_of_birth_used'\n"
     ]
    }
   ],
   "source": [
    "#Como el ejemplo anterior debemos recorrer todas las webs en vez de los códigos postales\n",
    "#Mientrás recorre el bucle imprime pero si el contenido es mayor a 500 se limita.\n",
    "#Las tres primeras tienen un contenido HTML, la cuarta también es HTML pero esta en formato JSON.\n",
    "\n",
    "import json\n",
    "import requests\n",
    "\n",
    "webs = [\"https://zombo.com\", \"https://www.pixelsfighting.com\", \"http://hasthelargehadroncolliderdestroyedtheworldyet.com\", \"https://api.fbi.gov/wanted/v1/list\"]\n",
    "\n",
    "for i in webs:\n",
    "    response = requests.get(i)\n",
    "    print(response)\n",
    "    print(f\"URL: {i}\")\n",
    "    print(f\"Status code: {response.status_code}\")\n",
    "    if response.status_code == 200:\n",
    "        content = response.content.decode()[:500]\n",
    "        print(f\"Content: {content}\")\n",
    "    \n",
    "\n"
   ]
  },
  {
   "cell_type": "markdown",
   "metadata": {
    "id": "lMe-XFcH9-RN"
   },
   "source": [
    "### Ejercicio 5\n",
    "\n",
    "En este ejercicio lucharemos un poco contra el aburrimiento.  Hay una API para justamente esto en la dirección https://www.boredapi.com, podéis ver la documentación de la API en https://www.boredapi.com/documentation. \n",
    "\n",
    "\n",
    "Por ejemplo, dada una llamada a esta dirección, obtenemos una actividad de forma aleatoria: \n",
    "\n",
    "| Call | Description |\n",
    "|: ---------: |: ------------------------------------ -------------------------------------------------- ------------ |\n",
    "| http://www.boredapi.com/api/activity/ | Random activity |\n",
    "\n",
    "\n",
    "\n",
    "a) Usa requests para llamar a la dirección anterior 100 veces. ¿Cuántas actividades aparecen para dos o más participantes? \n",
    "\n",
    "\n",
    "**(1.5 puntos)** <span style=\"font-family: Courier New; background-color: #82b74b; color: #000000; padding: 3px; \">NM</span>"
   ]
  },
  {
   "cell_type": "code",
   "execution_count": null,
   "metadata": {
    "colab": {
     "base_uri": "https://localhost:8080/"
    },
    "executionInfo": {
     "elapsed": 14181,
     "status": "ok",
     "timestamp": 1683846576880,
     "user": {
      "displayName": "Manuel Rojas Garcia",
      "userId": "01932368244221494376"
     },
     "user_tz": -120
    },
    "id": "vjphqm_E9-RN",
    "outputId": "b2909612-8b7b-4c80-a093-322c231319c0"
   },
   "outputs": [
    {
     "name": "stdout",
     "output_type": "stream",
     "text": [
      "{'activity': 'Have a football scrimmage with some friends', 'type': 'social', 'participants': 8, 'price': 0, 'link': '', 'key': '1638604', 'accessibility': 0.2}\n",
      "{'activity': 'Hold a video game tournament with some friends', 'type': 'social', 'participants': 4, 'price': 0, 'link': '', 'key': '2300257', 'accessibility': 0.1}\n",
      "{'activity': 'Go on a fishing trip with some friends', 'type': 'social', 'participants': 3, 'price': 0.4, 'link': '', 'key': '3149232', 'accessibility': 0.4}\n",
      "{'activity': 'Go to a concert with local artists with some friends', 'type': 'social', 'participants': 3, 'price': 0.4, 'link': '', 'key': '2211716', 'accessibility': 0.3}\n",
      "{'activity': 'Have a bonfire with your close friends', 'type': 'social', 'participants': 4, 'price': 0.1, 'link': '', 'key': '8442249', 'accessibility': 0.1}\n",
      "{'activity': 'Have a paper airplane contest with some friends', 'type': 'social', 'participants': 4, 'price': 0.02, 'link': '', 'key': '8557562', 'accessibility': 0.05}\n",
      "{'activity': 'Have a bonfire with your close friends', 'type': 'social', 'participants': 4, 'price': 0.1, 'link': '', 'key': '8442249', 'accessibility': 0.1}\n",
      "{'activity': 'Bake a pie with some friends', 'type': 'cooking', 'participants': 3, 'price': 0.3, 'link': '', 'key': '3141592', 'accessibility': 0.3}\n",
      "{'activity': 'Go to a concert with some friends', 'type': 'social', 'participants': 4, 'price': 0.6, 'link': '', 'key': '4558850', 'accessibility': 0.4}\n",
      "Las actividades que son para dos o más personas son: 9\n"
     ]
    }
   ],
   "source": [
    "#Seguimos con el código anterior pero creamos un bucle for para hacer las 100 interacciones.\n",
    "#Dentro del bucle creamos una condición if para clasificar solo los 'participants' si son iguales o mayor a 2\n",
    "#Creamos una variable para almacenar un contador, e imprimir los datos anteriores y el contador.  \n",
    "import json\n",
    "import requests\n",
    "\n",
    "def parse_response(response):\n",
    "      data = None\n",
    "      if response.status_code == 200:\n",
    "          # Data is formatted as JSON but received as string. Load it as JSON object\n",
    "          data = json.loads(response.content)\n",
    "\n",
    "      # Raise an error otherwise\n",
    "      else:\n",
    "          raise Exception(\"Unexpected response (%s: %s).\" %\n",
    "                        (response.status_code, response.reason))\n",
    "\n",
    "      return data\n",
    "\n",
    "web = 'http://www.boredapi.com/api/activity/'\n",
    "masdedos = 0\n",
    "\n",
    "for i in range(100): \n",
    "    response = requests.get(web)\n",
    "    data = parse_response(response)\n",
    "    if data and data.get('participants') >= 2:\n",
    "        masdedos += 1\n",
    "        print(data)\n",
    "print('Las actividades que son para dos o más personas son:', masdedos)"
   ]
  },
  {
   "cell_type": "markdown",
   "metadata": {
    "id": "CxRkIeFh9-RO"
   },
   "source": [
    "b) La documentación de la API indica que es posible hacer búsquedas incluyendo parámetros, como por ejemplo vía la ruta: \n",
    "\n",
    "> /api/activity?minprice=:minprice&maxprice=:maxprice\n",
    "\n",
    "Escribe una función llamada `fun` que:\n",
    "\n",
    "1. Tenga dos parámetros de entrada (`minprice`, `maxprice`).\n",
    "\n",
    "2. Devuelva un diccionario solo con los elementos `price`, `activity` y `type`. \n",
    "\n",
    "Llama a esta función otras 100 veces y comprueba que todos los precios se ajustan a los valores de la llamada. \n",
    "\n",
    "**(1 punto)** <span style=\"font-family: Courier New; background-color: #82b74b; color: #000000; padding: 3px; \">NM</span>"
   ]
  },
  {
   "cell_type": "code",
   "execution_count": null,
   "metadata": {
    "colab": {
     "base_uri": "https://localhost:8080/"
    },
    "executionInfo": {
     "elapsed": 14023,
     "status": "ok",
     "timestamp": 1683847449855,
     "user": {
      "displayName": "Manuel Rojas Garcia",
      "userId": "01932368244221494376"
     },
     "user_tz": -120
    },
    "id": "5zLqB6U59-RO",
    "outputId": "e9abd7f1-4f0c-4797-989b-bdb3c3368682"
   },
   "outputs": [
    {
     "name": "stdout",
     "output_type": "stream",
     "text": [
      "La actividad \"Catch up with a friend over a lunch date\" tiene un precio de: 0.2 y es del tipo: social\n",
      "La actividad \"Shop at support your local farmers market\" tiene un precio de: 0.2 y es del tipo: relaxation\n",
      "La actividad \"Visit a nearby museum\" tiene un precio de: 0.2 y es del tipo: recreational\n",
      "La actividad \"Make bread from scratch\" tiene un precio de: 0.2 y es del tipo: cooking\n",
      "La actividad \"Take a spontaneous road trip with some friends\" tiene un precio de: 0.2 y es del tipo: social\n",
      "La actividad \"Take a spontaneous road trip with some friends\" tiene un precio de: 0.2 y es del tipo: social\n",
      "La actividad \"Visit a nearby museum\" tiene un precio de: 0.2 y es del tipo: recreational\n",
      "La actividad \"Shop at support your local farmers market\" tiene un precio de: 0.2 y es del tipo: relaxation\n",
      "La actividad \"Catch up with a friend over a lunch date\" tiene un precio de: 0.2 y es del tipo: social\n",
      "La actividad \"Take a spontaneous road trip with some friends\" tiene un precio de: 0.2 y es del tipo: social\n",
      "La actividad \"Take a spontaneous road trip with some friends\" tiene un precio de: 0.2 y es del tipo: social\n",
      "La actividad \"Catch up with a friend over a lunch date\" tiene un precio de: 0.2 y es del tipo: social\n",
      "La actividad \"Patronize a local independent restaurant\" tiene un precio de: 0.2 y es del tipo: recreational\n",
      "La actividad \"Go to the gym\" tiene un precio de: 0.2 y es del tipo: recreational\n",
      "La actividad \"Shop at support your local farmers market\" tiene un precio de: 0.2 y es del tipo: relaxation\n",
      "La actividad \"Play a game of Monopoly\" tiene un precio de: 0.2 y es del tipo: social\n",
      "La actividad \"Visit a nearby museum\" tiene un precio de: 0.2 y es del tipo: recreational\n",
      "La actividad \"Make bread from scratch\" tiene un precio de: 0.2 y es del tipo: cooking\n",
      "La actividad \"Binge watch a trending series\" tiene un precio de: 0.2 y es del tipo: recreational\n",
      "La actividad \"Make homemade ice cream\" tiene un precio de: 0.2 y es del tipo: cooking\n",
      "La actividad \"Prepare a dish from a foreign culture\" tiene un precio de: 0.2 y es del tipo: cooking\n",
      "La actividad \"Patronize a local independent restaurant\" tiene un precio de: 0.2 y es del tipo: recreational\n",
      "La actividad \"Learn origami\" tiene un precio de: 0.2 y es del tipo: education\n",
      "La actividad \"Paint the first thing you see\" tiene un precio de: 0.25 y es del tipo: recreational\n",
      "La actividad \"Visit a nearby museum\" tiene un precio de: 0.2 y es del tipo: recreational\n",
      "La actividad \"Go see a movie in theaters with a few friends\" tiene un precio de: 0.2 y es del tipo: social\n",
      "La actividad \"Go see a movie in theaters with a few friends\" tiene un precio de: 0.2 y es del tipo: social\n",
      "La actividad \"Shop at support your local farmers market\" tiene un precio de: 0.2 y es del tipo: relaxation\n",
      "La actividad \"Binge watch a trending series\" tiene un precio de: 0.2 y es del tipo: recreational\n",
      "La actividad \"Prepare a dish from a foreign culture\" tiene un precio de: 0.2 y es del tipo: cooking\n",
      "La actividad \"Shop at support your local farmers market\" tiene un precio de: 0.2 y es del tipo: relaxation\n",
      "La actividad \"Go see a movie in theaters with a few friends\" tiene un precio de: 0.2 y es del tipo: social\n",
      "La actividad \"Patronize a local independent restaurant\" tiene un precio de: 0.2 y es del tipo: recreational\n",
      "La actividad \"Go see a movie in theaters with a few friends\" tiene un precio de: 0.2 y es del tipo: social\n",
      "La actividad \"Prepare a dish from a foreign culture\" tiene un precio de: 0.2 y es del tipo: cooking\n",
      "La actividad \"Learn origami\" tiene un precio de: 0.2 y es del tipo: education\n",
      "La actividad \"Shop at support your local farmers market\" tiene un precio de: 0.2 y es del tipo: relaxation\n",
      "La actividad \"Binge watch a trending series\" tiene un precio de: 0.2 y es del tipo: recreational\n",
      "La actividad \"Prepare a dish from a foreign culture\" tiene un precio de: 0.2 y es del tipo: cooking\n",
      "La actividad \"Make tie dye shirts\" tiene un precio de: 0.2 y es del tipo: diy\n",
      "La actividad \"Learn origami\" tiene un precio de: 0.2 y es del tipo: education\n",
      "La actividad \"Go see a movie in theaters with a few friends\" tiene un precio de: 0.2 y es del tipo: social\n",
      "La actividad \"Go see a movie in theaters with a few friends\" tiene un precio de: 0.2 y es del tipo: social\n",
      "La actividad \"Learn origami\" tiene un precio de: 0.2 y es del tipo: education\n",
      "La actividad \"Patronize a local independent restaurant\" tiene un precio de: 0.2 y es del tipo: recreational\n",
      "La actividad \"Make bread from scratch\" tiene un precio de: 0.2 y es del tipo: cooking\n",
      "La actividad \"Prepare a dish from a foreign culture\" tiene un precio de: 0.2 y es del tipo: cooking\n",
      "La actividad \"Make bread from scratch\" tiene un precio de: 0.2 y es del tipo: cooking\n",
      "La actividad \"Make homemade ice cream\" tiene un precio de: 0.2 y es del tipo: cooking\n",
      "La actividad \"Make homemade ice cream\" tiene un precio de: 0.2 y es del tipo: cooking\n",
      "La actividad \"Visit a nearby museum\" tiene un precio de: 0.2 y es del tipo: recreational\n",
      "La actividad \"Go to the gym\" tiene un precio de: 0.2 y es del tipo: recreational\n",
      "La actividad \"Go to the gym\" tiene un precio de: 0.2 y es del tipo: recreational\n",
      "La actividad \"Patronize a local independent restaurant\" tiene un precio de: 0.2 y es del tipo: recreational\n",
      "La actividad \"Binge watch a trending series\" tiene un precio de: 0.2 y es del tipo: recreational\n",
      "La actividad \"Visit a nearby museum\" tiene un precio de: 0.2 y es del tipo: recreational\n",
      "La actividad \"Patronize a local independent restaurant\" tiene un precio de: 0.2 y es del tipo: recreational\n",
      "La actividad \"Binge watch a trending series\" tiene un precio de: 0.2 y es del tipo: recreational\n",
      "La actividad \"Catch up with a friend over a lunch date\" tiene un precio de: 0.2 y es del tipo: social\n",
      "La actividad \"Binge watch a trending series\" tiene un precio de: 0.2 y es del tipo: recreational\n",
      "La actividad \"Catch up with a friend over a lunch date\" tiene un precio de: 0.2 y es del tipo: social\n",
      "La actividad \"Take a spontaneous road trip with some friends\" tiene un precio de: 0.2 y es del tipo: social\n",
      "La actividad \"Go to the gym\" tiene un precio de: 0.2 y es del tipo: recreational\n",
      "La actividad \"Make bread from scratch\" tiene un precio de: 0.2 y es del tipo: cooking\n",
      "La actividad \"Shop at support your local farmers market\" tiene un precio de: 0.2 y es del tipo: relaxation\n",
      "La actividad \"Paint the first thing you see\" tiene un precio de: 0.25 y es del tipo: recreational\n",
      "La actividad \"Catch up with a friend over a lunch date\" tiene un precio de: 0.2 y es del tipo: social\n",
      "La actividad \"Make bread from scratch\" tiene un precio de: 0.2 y es del tipo: cooking\n",
      "La actividad \"Go to the gym\" tiene un precio de: 0.2 y es del tipo: recreational\n",
      "La actividad \"Take a spontaneous road trip with some friends\" tiene un precio de: 0.2 y es del tipo: social\n",
      "La actividad \"Back up important computer files\" tiene un precio de: 0.2 y es del tipo: busywork\n",
      "La actividad \"Shop at support your local farmers market\" tiene un precio de: 0.2 y es del tipo: relaxation\n",
      "La actividad \"Visit a nearby museum\" tiene un precio de: 0.2 y es del tipo: recreational\n",
      "La actividad \"Learn origami\" tiene un precio de: 0.2 y es del tipo: education\n",
      "La actividad \"Make bread from scratch\" tiene un precio de: 0.2 y es del tipo: cooking\n",
      "La actividad \"Make bread from scratch\" tiene un precio de: 0.2 y es del tipo: cooking\n",
      "La actividad \"Go see a movie in theaters with a few friends\" tiene un precio de: 0.2 y es del tipo: social\n",
      "La actividad \"Make tie dye shirts\" tiene un precio de: 0.2 y es del tipo: diy\n",
      "La actividad \"Learn origami\" tiene un precio de: 0.2 y es del tipo: education\n",
      "La actividad \"Patronize a local independent restaurant\" tiene un precio de: 0.2 y es del tipo: recreational\n",
      "La actividad \"Learn origami\" tiene un precio de: 0.2 y es del tipo: education\n",
      "La actividad \"Binge watch a trending series\" tiene un precio de: 0.2 y es del tipo: recreational\n",
      "La actividad \"Binge watch a trending series\" tiene un precio de: 0.2 y es del tipo: recreational\n",
      "La actividad \"Go see a movie in theaters with a few friends\" tiene un precio de: 0.2 y es del tipo: social\n",
      "La actividad \"Play a game of Monopoly\" tiene un precio de: 0.2 y es del tipo: social\n",
      "La actividad \"Patronize a local independent restaurant\" tiene un precio de: 0.2 y es del tipo: recreational\n",
      "La actividad \"Shop at support your local farmers market\" tiene un precio de: 0.2 y es del tipo: relaxation\n",
      "La actividad \"Catch up with a friend over a lunch date\" tiene un precio de: 0.2 y es del tipo: social\n",
      "La actividad \"Binge watch a trending series\" tiene un precio de: 0.2 y es del tipo: recreational\n",
      "La actividad \"Go to the gym\" tiene un precio de: 0.2 y es del tipo: recreational\n",
      "La actividad \"Back up important computer files\" tiene un precio de: 0.2 y es del tipo: busywork\n",
      "La actividad \"Make homemade ice cream\" tiene un precio de: 0.2 y es del tipo: cooking\n",
      "La actividad \"Patronize a local independent restaurant\" tiene un precio de: 0.2 y es del tipo: recreational\n",
      "La actividad \"Learn origami\" tiene un precio de: 0.2 y es del tipo: education\n",
      "La actividad \"Patronize a local independent restaurant\" tiene un precio de: 0.2 y es del tipo: recreational\n",
      "La actividad \"Visit a nearby museum\" tiene un precio de: 0.2 y es del tipo: recreational\n",
      "La actividad \"Back up important computer files\" tiene un precio de: 0.2 y es del tipo: busywork\n",
      "La actividad \"Shop at support your local farmers market\" tiene un precio de: 0.2 y es del tipo: relaxation\n",
      "La actividad \"Make bread from scratch\" tiene un precio de: 0.2 y es del tipo: cooking\n",
      "La actividad \"Go see a movie in theaters with a few friends\" tiene un precio de: 0.2 y es del tipo: social\n"
     ]
    }
   ],
   "source": [
    "#Continuamos con el comienzo del código como en el resto de los ejercicios.\n",
    "#Creamos la función fun como indica el ejercicio y el filtro con los elementos que se indican.\n",
    "#La variable de la web la creamos con f para determinar en la variable el rango de los precios, que lo dejo entre 0.2 y 0.25\n",
    "#Imprimimos solo los precios del rango que hemos deseado, podriamos crear un input para determinar los valores, pero no se indica en el ejercicio.\n",
    "#El resultado es correcto, todos valores que se imprimen están entre el min y max de las variables e incluyo que actividad y tipo, cambio a types la variable porque type es palabra reservada.\n",
    "\n",
    "import json\n",
    "import requests\n",
    "\n",
    "def parse_response(response):\n",
    "      data = None\n",
    "      if response.status_code == 200:\n",
    "          # Data is formatted as JSON but received as string. Load it as JSON object\n",
    "          data = json.loads(response.content)\n",
    "\n",
    "      # Raise an error otherwise\n",
    "      else:\n",
    "          raise Exception(\"Unexpected response (%s: %s).\" %\n",
    "                        (response.status_code, response.reason))\n",
    "\n",
    "      return data\n",
    "\n",
    "def fun(minprice, maxprice):\n",
    "    # Query the data from the API\n",
    "    web = f'http://www.boredapi.com/api/activity?minprice={minprice}&maxprice={maxprice}'\n",
    "\n",
    "    response = requests.get(web)\n",
    "    data = parse_response(response)\n",
    "\n",
    "    return data\n",
    "    \n",
    "minprice = 0.2\n",
    "maxprice = 0.25\n",
    "for i in range(100): \n",
    "\n",
    "  activity_data = fun(minprice, maxprice)\n",
    "  price = activity_data['price']\n",
    "  activity = activity_data['activity']\n",
    "  types = activity_data['type']\n",
    "  print(f'La actividad \"{activity}\" tiene un precio de: {price} y es del tipo: {types}')\n"
   ]
  },
  {
   "cell_type": "markdown",
   "metadata": {
    "id": "9VUMds8z9-RO"
   },
   "source": [
    "### Ejercicio 6\n",
    "\n",
    "En este ejercicio haremos un poco de *Fun with numbers*. Hay una API para *number-facts* (curiosidades sobre números) en la base de datos http://numbersapi.com. Esta API tiene unos puntos de acceso en los que podemos interrogar la API sobre diferentes curiosidades sobre números enteros y fechas:\n",
    "\n",
    "Dado un número $N$, o una fecha con día $D$ y más $M$, la llamada a las siguientes direcciones proporcionan la siguiente información:\n",
    "\n",
    "\n",
    "| Call | Description |\n",
    "|:---------|:-------------------------|\n",
    "| Http: //numbersapi.com/N | Trivia about N |\n",
    "| Http: //numbersapi.com/N/math | Mathematical facts about N |\n",
    "| Http: //numbersapi.com/M/D/date | Facts about a particular date |\n",
    "| Http: //numbersapi.com/N/year | Facts about a particular date |\n",
    "\n",
    "\n",
    "Así, para obtener el *fact* número $1$, debemos construir una solicitud a la  *url*:\n",
    "\n",
    "- *http: //numbersapi.com/1*\n",
    "\n",
    "El objeto que se nos devolverá, contendrá la información indicada en la tabla en formato de texto directo.\n",
    "\n",
    "a) Construye una función que tenga de argumento dos año $AI$ y $AF$. La función debe recoger los *facts* desde el año $AI$ hasta el año $AF$ ambos incluidos, y devolver un diccionario donde las claves sean el año y los valores sean el *fact* sobre ese año.\n",
    "\n",
    "\n",
    "**(1 punto)** <span style=\"font-family: Courier New; background-color: #82b74b; color: #000000; padding: 3px; \">NM</span>"
   ]
  },
  {
   "cell_type": "code",
   "execution_count": null,
   "metadata": {
    "colab": {
     "base_uri": "https://localhost:8080/"
    },
    "executionInfo": {
     "elapsed": 11654,
     "status": "ok",
     "timestamp": 1683848059437,
     "user": {
      "displayName": "Manuel Rojas Garcia",
      "userId": "01932368244221494376"
     },
     "user_tz": -120
    },
    "id": "dM-RJEzm9-RP",
    "outputId": "ae104995-1972-421f-e487-a15a13a3d3d3"
   },
   "outputs": [
    {
     "name": "stdout",
     "output_type": "stream",
     "text": [
      "Año inicial: 25\n",
      "Año final: 30\n",
      "{25: '25 is the year that Lucius Aelius Sejanus unsuccessfully attempts to marry the widow of Drusus Julius Caesar.', 26: '26 is the year that Pontius Pilate is appointed as prefect of Judea.', 27: '27 is the year that a poorly built amphitheatre in Fidenae collapses, killing 20,000 of the 50,000 spectators.', 28: '28 is the year that the Frisians negotiate a treaty with the Romans at the River Rhine, avoiding conquest.', 29: '29 is the year that Jesus baptized by John the Baptist (see 27).', 30: '30 is the year that Velleius Paterculus writes the general history of the countries known in Antiquity.'}\n"
     ]
    }
   ],
   "source": [
    "#He creado la función como los ejemplos anteiores pero con response = requests.get(web) me da bien los años pero el texto era incorrecto\n",
    "#Despues de investigar encuentro que el problema es que debo formatear la variable, link https://docs.python.org/es/3/tutorial/inputoutput.html\n",
    "#Como no indica que fechas creo un input para seleccionar y hacer el ejercicio más completo.\n",
    "\n",
    "inicial = int(input(\"Año inicial: \"))\n",
    "final = int(input(\"Año final: \"))\n",
    "\n",
    "\n",
    "AI = inicial\n",
    "AF = final\n",
    "\n",
    "def year(AI, AF):\n",
    "    fact = {}\n",
    "    web = 'http://numbersapi.com/{}/year'\n",
    "    data = []\n",
    "\n",
    "    for year in range(AI, AF + 1):\n",
    "        response = requests.get(web.format(year))\n",
    "        fact[year] = response.text\n",
    "    \n",
    "    return fact\n",
    "\n",
    "\n",
    "result = year(AI, AF)\n",
    "print(result)\n",
    "\n"
   ]
  },
  {
   "cell_type": "markdown",
   "metadata": {
    "id": "YrXuJPcV9-RP"
   },
   "source": [
    "b) Usa esta función para mostrar por pantalla los *facts* entre 1915 y 1925, ambos incluidos.\n",
    "\n",
    "**(0.5 puntos)** <span style=\"font-family: Courier New; background-color: #82b74b; color: #000000; padding: 3px; \">NM</span>"
   ]
  },
  {
   "cell_type": "code",
   "execution_count": null,
   "metadata": {
    "colab": {
     "base_uri": "https://localhost:8080/"
    },
    "executionInfo": {
     "elapsed": 4812,
     "status": "ok",
     "timestamp": 1683811535708,
     "user": {
      "displayName": "Manuel Rojas Garcia",
      "userId": "01932368244221494376"
     },
     "user_tz": -120
    },
    "id": "l1-7q8l89-RP",
    "outputId": "f0c4b983-7d35-4e90-cb86-6ce623da965c"
   },
   "outputs": [
    {
     "name": "stdout",
     "output_type": "stream",
     "text": [
      "{1915: '1915 is the year that Harry Houdini does one of his straitjacket escape performances.', 1916: '1916 is the year that Robert Baden-Powell founds the Wolf Cubs Scouts in Britain, changed to Cub Scouts in the USA.', 1917: '1917 is the year that the United States Senate adopts the cloture rule in order to limit filibusters.', 1918: '1918 is the year that Manfred Von Richthofen, \"The Red Baron\", WWI\\'s most successful fighter pilot, dies in combat at Morlancourt Ridge near the Somme River on April 21st.', 1919: '1919 is the year that the University of California opens its second campus in Los Angeles on May 23rd.', 1920: '1920 is the year that the council of the League of Nations accepts the constitution for the Free City of Danzig on November 17th.', 1921: '1921 is the year that the Communist Party of China is officially founded.', 1922: '1922 is the year that the Amur Tiger becomes extinct in South Korea.', 1923: '1923 is the year that Juan de la Cierva invents the autogyro, a rotary-winged aircraft with an unpowered rotor on January 17th.', 1924: '1924 is the year that J. Edgar Hoover is appointed head of the Federal Bureau of Investigation on May 10th.', 1925: '1925 is the year that the Shueisha Publishing Company is founded in Tokyo.'}\n"
     ]
    }
   ],
   "source": [
    "#Eliminamos la opción de elegir los números por los que indica el ejercicio.\n",
    "\n",
    "AI = 1915\n",
    "AF = 1925\n",
    "\n",
    "def year(AI, AF):\n",
    "    fact = {}\n",
    "    web = 'http://numbersapi.com/{}/year'\n",
    "    data = []\n",
    "\n",
    "    for year in range(AI, AF + 1):\n",
    "        response = requests.get(web.format(year))\n",
    "        fact[year] = response.text\n",
    "    \n",
    "    return fact\n",
    "\n",
    "\n",
    "result = year(AI, AF)\n",
    "print(result)"
   ]
  },
  {
   "cell_type": "markdown",
   "metadata": {
    "id": "yXE3LfOa9-RP"
   },
   "source": [
    "### Ejercicio Opcional\n",
    "\n",
    "\n",
    "El  New Mexico Tech Seismological Observatory almacena un registro de eventos sísmicos recientes. Este registro está disponible, por ejemplo en esta web. \n",
    "\n",
    "- https://geoinfo.nmt.edu/nmtso/events/home.cfml \n",
    "\n",
    "\n",
    "\n",
    "Usa `scrappy` para mostrar la información del listado por pantalla de las \"Date+Time (UTC)\" de cada evento de la página.\n",
    "\n",
    "\n",
    "\n",
    "Para ello:\n",
    "\n",
    "- Utiliza el tutorial de Scrappy para encontrar un `xpath` que contenga la información requerida.\n",
    "- Muestra la información requerida en forma de diccionario.\n",
    "\n",
    "<span style=\"font-family: Courier New; background-color: #f2ae72; color: #000000; padding: 3px; \">EI</span>\n",
    "\n",
    "**Nota**: si la ejecución del _crawler_ os devuelve un error `ReactorNotRestartable`, reiniciad el núcleo del Notebook (en el menú: `Kernel` - `Restart`). \n",
    "**Nota**: si scrapy no está instalado, lo podéis instalar vía\n",
    "\n",
    "\n",
    "`!pip install scrapy`\n"
   ]
  },
  {
   "cell_type": "code",
   "execution_count": 63,
   "metadata": {
    "colab": {
     "base_uri": "https://localhost:8080/",
     "height": 1000
    },
    "executionInfo": {
     "elapsed": 382,
     "status": "error",
     "timestamp": 1683849853201,
     "user": {
      "displayName": "Manuel Rojas Garcia",
      "userId": "01932368244221494376"
     },
     "user_tz": -120
    },
    "id": "og9FGngpQXP0",
    "outputId": "e476b8d1-85d6-486e-cd94-6163f6fbf7d6"
   },
   "outputs": [
    {
     "name": "stderr",
     "output_type": "stream",
     "text": [
      "INFO:scrapy.utils.log:Scrapy 2.9.0 started (bot: scrapybot)\n",
      "2023-05-12 00:04:13 [scrapy.utils.log] INFO: Scrapy 2.9.0 started (bot: scrapybot)\n",
      "INFO:scrapy.utils.log:Versions: lxml 4.9.2.0, libxml2 2.9.14, cssselect 1.2.0, parsel 1.8.1, w3lib 2.1.1, Twisted 22.10.0, Python 3.10.11 (main, Apr  5 2023, 14:15:10) [GCC 9.4.0], pyOpenSSL 23.1.1 (OpenSSL 3.1.0 14 Mar 2023), cryptography 40.0.2, Platform Linux-5.10.147+-x86_64-with-glibc2.31\n",
      "2023-05-12 00:04:13 [scrapy.utils.log] INFO: Versions: lxml 4.9.2.0, libxml2 2.9.14, cssselect 1.2.0, parsel 1.8.1, w3lib 2.1.1, Twisted 22.10.0, Python 3.10.11 (main, Apr  5 2023, 14:15:10) [GCC 9.4.0], pyOpenSSL 23.1.1 (OpenSSL 3.1.0 14 Mar 2023), cryptography 40.0.2, Platform Linux-5.10.147+-x86_64-with-glibc2.31\n",
      "INFO:scrapy.crawler:Overridden settings:\n",
      "{}\n",
      "2023-05-12 00:04:13 [scrapy.crawler] INFO: Overridden settings:\n",
      "{}\n",
      "DEBUG:scrapy.utils.log:Using reactor: twisted.internet.epollreactor.EPollReactor\n",
      "2023-05-12 00:04:13 [scrapy.utils.log] DEBUG: Using reactor: twisted.internet.epollreactor.EPollReactor\n",
      "INFO:scrapy.extensions.telnet:Telnet Password: 00a01539b04bc5dd\n",
      "2023-05-12 00:04:13 [scrapy.extensions.telnet] INFO: Telnet Password: 00a01539b04bc5dd\n",
      "INFO:scrapy.middleware:Enabled extensions:\n",
      "['scrapy.extensions.corestats.CoreStats',\n",
      " 'scrapy.extensions.telnet.TelnetConsole',\n",
      " 'scrapy.extensions.memusage.MemoryUsage',\n",
      " 'scrapy.extensions.logstats.LogStats']\n",
      "2023-05-12 00:04:13 [scrapy.middleware] INFO: Enabled extensions:\n",
      "['scrapy.extensions.corestats.CoreStats',\n",
      " 'scrapy.extensions.telnet.TelnetConsole',\n",
      " 'scrapy.extensions.memusage.MemoryUsage',\n",
      " 'scrapy.extensions.logstats.LogStats']\n",
      "INFO:scrapy.middleware:Enabled downloader middlewares:\n",
      "['scrapy.downloadermiddlewares.httpauth.HttpAuthMiddleware',\n",
      " 'scrapy.downloadermiddlewares.downloadtimeout.DownloadTimeoutMiddleware',\n",
      " 'scrapy.downloadermiddlewares.defaultheaders.DefaultHeadersMiddleware',\n",
      " 'scrapy.downloadermiddlewares.useragent.UserAgentMiddleware',\n",
      " 'scrapy.downloadermiddlewares.retry.RetryMiddleware',\n",
      " 'scrapy.downloadermiddlewares.redirect.MetaRefreshMiddleware',\n",
      " 'scrapy.downloadermiddlewares.httpcompression.HttpCompressionMiddleware',\n",
      " 'scrapy.downloadermiddlewares.redirect.RedirectMiddleware',\n",
      " 'scrapy.downloadermiddlewares.cookies.CookiesMiddleware',\n",
      " 'scrapy.downloadermiddlewares.httpproxy.HttpProxyMiddleware',\n",
      " 'scrapy.downloadermiddlewares.stats.DownloaderStats']\n",
      "2023-05-12 00:04:13 [scrapy.middleware] INFO: Enabled downloader middlewares:\n",
      "['scrapy.downloadermiddlewares.httpauth.HttpAuthMiddleware',\n",
      " 'scrapy.downloadermiddlewares.downloadtimeout.DownloadTimeoutMiddleware',\n",
      " 'scrapy.downloadermiddlewares.defaultheaders.DefaultHeadersMiddleware',\n",
      " 'scrapy.downloadermiddlewares.useragent.UserAgentMiddleware',\n",
      " 'scrapy.downloadermiddlewares.retry.RetryMiddleware',\n",
      " 'scrapy.downloadermiddlewares.redirect.MetaRefreshMiddleware',\n",
      " 'scrapy.downloadermiddlewares.httpcompression.HttpCompressionMiddleware',\n",
      " 'scrapy.downloadermiddlewares.redirect.RedirectMiddleware',\n",
      " 'scrapy.downloadermiddlewares.cookies.CookiesMiddleware',\n",
      " 'scrapy.downloadermiddlewares.httpproxy.HttpProxyMiddleware',\n",
      " 'scrapy.downloadermiddlewares.stats.DownloaderStats']\n",
      "INFO:scrapy.middleware:Enabled spider middlewares:\n",
      "['scrapy.spidermiddlewares.httperror.HttpErrorMiddleware',\n",
      " 'scrapy.spidermiddlewares.offsite.OffsiteMiddleware',\n",
      " 'scrapy.spidermiddlewares.referer.RefererMiddleware',\n",
      " 'scrapy.spidermiddlewares.urllength.UrlLengthMiddleware',\n",
      " 'scrapy.spidermiddlewares.depth.DepthMiddleware']\n",
      "2023-05-12 00:04:13 [scrapy.middleware] INFO: Enabled spider middlewares:\n",
      "['scrapy.spidermiddlewares.httperror.HttpErrorMiddleware',\n",
      " 'scrapy.spidermiddlewares.offsite.OffsiteMiddleware',\n",
      " 'scrapy.spidermiddlewares.referer.RefererMiddleware',\n",
      " 'scrapy.spidermiddlewares.urllength.UrlLengthMiddleware',\n",
      " 'scrapy.spidermiddlewares.depth.DepthMiddleware']\n",
      "INFO:scrapy.middleware:Enabled item pipelines:\n",
      "[]\n",
      "2023-05-12 00:04:13 [scrapy.middleware] INFO: Enabled item pipelines:\n",
      "[]\n",
      "INFO:scrapy.core.engine:Spider opened\n",
      "2023-05-12 00:04:13 [scrapy.core.engine] INFO: Spider opened\n",
      "INFO:scrapy.extensions.logstats:Crawled 0 pages (at 0 pages/min), scraped 0 items (at 0 items/min)\n",
      "2023-05-12 00:04:13 [scrapy.extensions.logstats] INFO: Crawled 0 pages (at 0 pages/min), scraped 0 items (at 0 items/min)\n",
      "INFO:scrapy.extensions.telnet:Telnet console listening on 127.0.0.1:6035\n",
      "2023-05-12 00:04:13 [scrapy.extensions.telnet] INFO: Telnet console listening on 127.0.0.1:6035\n"
     ]
    },
    {
     "ename": "ReactorNotRestartable",
     "evalue": "ignored",
     "output_type": "error",
     "traceback": [
      "\u001b[0;31m---------------------------------------------------------------------------\u001b[0m",
      "\u001b[0;31mReactorNotRestartable\u001b[0m                     Traceback (most recent call last)",
      "\u001b[0;32m<ipython-input-63-f1baf252b8cf>\u001b[0m in \u001b[0;36m<cell line: 30>\u001b[0;34m()\u001b[0m\n\u001b[1;32m     28\u001b[0m \u001b[0;34m\u001b[0m\u001b[0m\n\u001b[1;32m     29\u001b[0m \u001b[0;31m# Lanzamos el crawler.\u001b[0m\u001b[0;34m\u001b[0m\u001b[0;34m\u001b[0m\u001b[0m\n\u001b[0;32m---> 30\u001b[0;31m \u001b[0mprocess\u001b[0m\u001b[0;34m.\u001b[0m\u001b[0mstart\u001b[0m\u001b[0;34m(\u001b[0m\u001b[0;34m)\u001b[0m\u001b[0;34m\u001b[0m\u001b[0;34m\u001b[0m\u001b[0m\n\u001b[0m",
      "\u001b[0;32m/usr/local/lib/python3.10/dist-packages/scrapy/crawler.py\u001b[0m in \u001b[0;36mstart\u001b[0;34m(self, stop_after_crawl, install_signal_handlers)\u001b[0m\n\u001b[1;32m    388\u001b[0m         \u001b[0mtp\u001b[0m\u001b[0;34m.\u001b[0m\u001b[0madjustPoolsize\u001b[0m\u001b[0;34m(\u001b[0m\u001b[0mmaxthreads\u001b[0m\u001b[0;34m=\u001b[0m\u001b[0mself\u001b[0m\u001b[0;34m.\u001b[0m\u001b[0msettings\u001b[0m\u001b[0;34m.\u001b[0m\u001b[0mgetint\u001b[0m\u001b[0;34m(\u001b[0m\u001b[0;34m\"REACTOR_THREADPOOL_MAXSIZE\"\u001b[0m\u001b[0;34m)\u001b[0m\u001b[0;34m)\u001b[0m\u001b[0;34m\u001b[0m\u001b[0;34m\u001b[0m\u001b[0m\n\u001b[1;32m    389\u001b[0m         \u001b[0mreactor\u001b[0m\u001b[0;34m.\u001b[0m\u001b[0maddSystemEventTrigger\u001b[0m\u001b[0;34m(\u001b[0m\u001b[0;34m\"before\"\u001b[0m\u001b[0;34m,\u001b[0m \u001b[0;34m\"shutdown\"\u001b[0m\u001b[0;34m,\u001b[0m \u001b[0mself\u001b[0m\u001b[0;34m.\u001b[0m\u001b[0mstop\u001b[0m\u001b[0;34m)\u001b[0m\u001b[0;34m\u001b[0m\u001b[0;34m\u001b[0m\u001b[0m\n\u001b[0;32m--> 390\u001b[0;31m         \u001b[0mreactor\u001b[0m\u001b[0;34m.\u001b[0m\u001b[0mrun\u001b[0m\u001b[0;34m(\u001b[0m\u001b[0minstallSignalHandlers\u001b[0m\u001b[0;34m=\u001b[0m\u001b[0;32mFalse\u001b[0m\u001b[0;34m)\u001b[0m  \u001b[0;31m# blocking call\u001b[0m\u001b[0;34m\u001b[0m\u001b[0;34m\u001b[0m\u001b[0m\n\u001b[0m\u001b[1;32m    391\u001b[0m \u001b[0;34m\u001b[0m\u001b[0m\n\u001b[1;32m    392\u001b[0m     \u001b[0;32mdef\u001b[0m \u001b[0m_graceful_stop_reactor\u001b[0m\u001b[0;34m(\u001b[0m\u001b[0mself\u001b[0m\u001b[0;34m)\u001b[0m\u001b[0;34m:\u001b[0m\u001b[0;34m\u001b[0m\u001b[0;34m\u001b[0m\u001b[0m\n",
      "\u001b[0;32m/usr/local/lib/python3.10/dist-packages/twisted/internet/base.py\u001b[0m in \u001b[0;36mrun\u001b[0;34m(self, installSignalHandlers)\u001b[0m\n\u001b[1;32m   1315\u001b[0m \u001b[0;34m\u001b[0m\u001b[0m\n\u001b[1;32m   1316\u001b[0m     \u001b[0;32mdef\u001b[0m \u001b[0mrun\u001b[0m\u001b[0;34m(\u001b[0m\u001b[0mself\u001b[0m\u001b[0;34m,\u001b[0m \u001b[0minstallSignalHandlers\u001b[0m\u001b[0;34m:\u001b[0m \u001b[0mbool\u001b[0m \u001b[0;34m=\u001b[0m \u001b[0;32mTrue\u001b[0m\u001b[0;34m)\u001b[0m \u001b[0;34m->\u001b[0m \u001b[0;32mNone\u001b[0m\u001b[0;34m:\u001b[0m\u001b[0;34m\u001b[0m\u001b[0;34m\u001b[0m\u001b[0m\n\u001b[0;32m-> 1317\u001b[0;31m         \u001b[0mself\u001b[0m\u001b[0;34m.\u001b[0m\u001b[0mstartRunning\u001b[0m\u001b[0;34m(\u001b[0m\u001b[0minstallSignalHandlers\u001b[0m\u001b[0;34m=\u001b[0m\u001b[0minstallSignalHandlers\u001b[0m\u001b[0;34m)\u001b[0m\u001b[0;34m\u001b[0m\u001b[0;34m\u001b[0m\u001b[0m\n\u001b[0m\u001b[1;32m   1318\u001b[0m         \u001b[0mself\u001b[0m\u001b[0;34m.\u001b[0m\u001b[0mmainLoop\u001b[0m\u001b[0;34m(\u001b[0m\u001b[0;34m)\u001b[0m\u001b[0;34m\u001b[0m\u001b[0;34m\u001b[0m\u001b[0m\n\u001b[1;32m   1319\u001b[0m \u001b[0;34m\u001b[0m\u001b[0m\n",
      "\u001b[0;32m/usr/local/lib/python3.10/dist-packages/twisted/internet/base.py\u001b[0m in \u001b[0;36mstartRunning\u001b[0;34m(self, installSignalHandlers)\u001b[0m\n\u001b[1;32m   1297\u001b[0m         \"\"\"\n\u001b[1;32m   1298\u001b[0m         \u001b[0mself\u001b[0m\u001b[0;34m.\u001b[0m\u001b[0m_installSignalHandlers\u001b[0m \u001b[0;34m=\u001b[0m \u001b[0minstallSignalHandlers\u001b[0m\u001b[0;34m\u001b[0m\u001b[0;34m\u001b[0m\u001b[0m\n\u001b[0;32m-> 1299\u001b[0;31m         \u001b[0mReactorBase\u001b[0m\u001b[0;34m.\u001b[0m\u001b[0mstartRunning\u001b[0m\u001b[0;34m(\u001b[0m\u001b[0mcast\u001b[0m\u001b[0;34m(\u001b[0m\u001b[0mReactorBase\u001b[0m\u001b[0;34m,\u001b[0m \u001b[0mself\u001b[0m\u001b[0;34m)\u001b[0m\u001b[0;34m)\u001b[0m\u001b[0;34m\u001b[0m\u001b[0;34m\u001b[0m\u001b[0m\n\u001b[0m\u001b[1;32m   1300\u001b[0m \u001b[0;34m\u001b[0m\u001b[0m\n\u001b[1;32m   1301\u001b[0m     \u001b[0;32mdef\u001b[0m \u001b[0m_reallyStartRunning\u001b[0m\u001b[0;34m(\u001b[0m\u001b[0mself\u001b[0m\u001b[0;34m)\u001b[0m \u001b[0;34m->\u001b[0m \u001b[0;32mNone\u001b[0m\u001b[0;34m:\u001b[0m\u001b[0;34m\u001b[0m\u001b[0;34m\u001b[0m\u001b[0m\n",
      "\u001b[0;32m/usr/local/lib/python3.10/dist-packages/twisted/internet/base.py\u001b[0m in \u001b[0;36mstartRunning\u001b[0;34m(self)\u001b[0m\n\u001b[1;32m    841\u001b[0m             \u001b[0;32mraise\u001b[0m \u001b[0merror\u001b[0m\u001b[0;34m.\u001b[0m\u001b[0mReactorAlreadyRunning\u001b[0m\u001b[0;34m(\u001b[0m\u001b[0;34m)\u001b[0m\u001b[0;34m\u001b[0m\u001b[0;34m\u001b[0m\u001b[0m\n\u001b[1;32m    842\u001b[0m         \u001b[0;32mif\u001b[0m \u001b[0mself\u001b[0m\u001b[0;34m.\u001b[0m\u001b[0m_startedBefore\u001b[0m\u001b[0;34m:\u001b[0m\u001b[0;34m\u001b[0m\u001b[0;34m\u001b[0m\u001b[0m\n\u001b[0;32m--> 843\u001b[0;31m             \u001b[0;32mraise\u001b[0m \u001b[0merror\u001b[0m\u001b[0;34m.\u001b[0m\u001b[0mReactorNotRestartable\u001b[0m\u001b[0;34m(\u001b[0m\u001b[0;34m)\u001b[0m\u001b[0;34m\u001b[0m\u001b[0;34m\u001b[0m\u001b[0m\n\u001b[0m\u001b[1;32m    844\u001b[0m         \u001b[0mself\u001b[0m\u001b[0;34m.\u001b[0m\u001b[0m_started\u001b[0m \u001b[0;34m=\u001b[0m \u001b[0;32mTrue\u001b[0m\u001b[0;34m\u001b[0m\u001b[0;34m\u001b[0m\u001b[0m\n\u001b[1;32m    845\u001b[0m         \u001b[0mself\u001b[0m\u001b[0;34m.\u001b[0m\u001b[0m_stopped\u001b[0m \u001b[0;34m=\u001b[0m \u001b[0;32mFalse\u001b[0m\u001b[0;34m\u001b[0m\u001b[0;34m\u001b[0m\u001b[0m\n",
      "\u001b[0;31mReactorNotRestartable\u001b[0m: "
     ]
    }
   ],
   "source": [
    "#Para extraer los datos https://elmundodelosdatos.com/extraccion-datos-sitios-web-productos-zara/ - ejemplo //h1[@class=\"product-detail-info__name\"]/text()\n",
    "#Se utiliza el ejemplo de ejercicios resueltos solo cambiando xpath como el link superior y el campo yiel con la información requerida en el ejercicio.\n",
    "#Process start da un error igual que en el ejercicio de ejemplo\n",
    "#!pip install scrapy dejo comentado la instalación\n",
    "import scrapy\n",
    "from scrapy.crawler import CrawlerProcess\n",
    "\n",
    "class journal_spider(scrapy.Spider):\n",
    "    # Asignamos un nombre a la aranya.\n",
    "    name = \"seismo\"\n",
    "\n",
    "    start_urls = [\"https://www.scimagojr.com/journalrank.php\"]\n",
    "\n",
    "    # Definimos el analitzador.\n",
    "    def parse(self, response):\n",
    "        events = response.xpath('//div[@class=\"event_row\"]')\n",
    "        for event in events:\n",
    "            datetime_utc = event.xpath('.//div[@class=\"event_column\"][1]//text()').get()\n",
    "            yield {\n",
    "                'Date+Time (UTC)': event.extract()\n",
    "            }\n",
    "\n",
    "# Creamos una instancia de CrawlerProcess\n",
    "process = CrawlerProcess()\n",
    "\n",
    "# Inicializamos el crawler con la araña.\n",
    "process.crawl(journal_spider)\n",
    "\n",
    "# Lanzamos el crawler.\n",
    "process.start()"
   ]
  }
 ],
 "metadata": {
  "colab": {
   "provenance": []
  },
  "kernelspec": {
   "display_name": "Python 3 (ipykernel)",
   "language": "python",
   "name": "python3"
  },
  "language_info": {
   "codemirror_mode": {
    "name": "ipython",
    "version": 3
   },
   "file_extension": ".py",
   "mimetype": "text/x-python",
   "name": "python",
   "nbconvert_exporter": "python",
   "pygments_lexer": "ipython3",
   "version": "3.9.13"
  }
 },
 "nbformat": 4,
 "nbformat_minor": 1
}
