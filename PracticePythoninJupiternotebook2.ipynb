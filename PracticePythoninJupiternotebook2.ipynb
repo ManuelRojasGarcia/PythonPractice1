{
 "cells": [
  {
   "cell_type": "markdown",
   "metadata": {
    "id": "iVp8FwCwrChu"
   },
   "source": [
    "## Ejercicios para la PEC\n",
    "\n",
    "A continuación encontraréis los ejercicios que se deben completar en esta PEC y que forman parte de la evaluación de esta unidad."
   ]
  },
  {
   "cell_type": "markdown",
   "metadata": {
    "id": "JfdFrpthrChu"
   },
   "source": [
    "### Ejercicio 1\n",
    " "
   ]
  },
  {
   "cell_type": "markdown",
   "metadata": {
    "id": "-82S1qJOrChv"
   },
   "source": [
    "Considera la lista siguiente **(2 puntos)**: "
   ]
  },
  {
   "cell_type": "code",
   "execution_count": null,
   "metadata": {
    "id": "KiaTxLLurChv"
   },
   "outputs": [],
   "source": [
    "lista=[20, 'Hola', True, 'Python', -3]"
   ]
  },
  {
   "cell_type": "markdown",
   "metadata": {
    "id": "xv8xBTYqrChx"
   },
   "source": [
    "a1) Debe mostrar los siguientes elementos: Hola, True, Python, -3. \n",
    "\n",
    "a2) Debe mostrar los siguientes elementos: 20, Hola, True. "
   ]
  },
  {
   "cell_type": "code",
   "execution_count": null,
   "metadata": {
    "colab": {
     "base_uri": "https://localhost:8080/"
    },
    "executionInfo": {
     "elapsed": 3,
     "status": "ok",
     "timestamp": 1680862729239,
     "user": {
      "displayName": "Manuel Rojas Garcia",
      "userId": "01932368244221494376"
     },
     "user_tz": -120
    },
    "id": "a5BRa7h3rChx",
    "outputId": "05ed9bb7-c2cc-4695-f655-352c8e73ef5a"
   },
   "outputs": [
    {
     "name": "stdout",
     "output_type": "stream",
     "text": [
      "Hola\n",
      "True\n",
      "Python\n",
      "-3\n"
     ]
    }
   ],
   "source": [
    "# Código a modificar\n",
    "for n in lista: \n",
    "    if n == 20:\n",
    "        continue\n",
    "    print(n)"
   ]
  },
  {
   "cell_type": "code",
   "execution_count": null,
   "metadata": {
    "colab": {
     "base_uri": "https://localhost:8080/"
    },
    "executionInfo": {
     "elapsed": 4,
     "status": "ok",
     "timestamp": 1680862730920,
     "user": {
      "displayName": "Manuel Rojas Garcia",
      "userId": "01932368244221494376"
     },
     "user_tz": -120
    },
    "id": "HpzXXJ8zrChx",
    "outputId": "65709b8e-8ad9-48ac-c26c-d93fcc7727f5"
   },
   "outputs": [
    {
     "name": "stdout",
     "output_type": "stream",
     "text": [
      "Hola\n",
      "True\n",
      "Python\n",
      "-3\n",
      "\n",
      "20\n",
      "Hola\n",
      "True\n"
     ]
    }
   ],
   "source": [
    "#a1\n",
    "#Se modifica el código para que cuando busque en los elementos de la lista si es n = a 20, continue con la lista e imprima los elementos encontrados\n",
    "# Se añade un print adicional para dejar espacio entre ejercicios.\n",
    "\n",
    "for n in lista: \n",
    "    if n == 20:\n",
    "        continue\n",
    "    print(n)\n",
    "print()\n",
    "\n",
    "#a2\n",
    "#Se modifica el código para que cuando busque en los elementos de la lista si n = Python pare e imprima saltandose el último elemento.\n",
    "\n",
    "for n in lista: \n",
    "    if n == 'Python':\n",
    "        break \n",
    "    print(n)"
   ]
  },
  {
   "cell_type": "markdown",
   "metadata": {
    "id": "__-wK4ZprChy"
   },
   "source": [
    "b) Escribe un código que, dada la lista que estamos trabajando, 1) detecte los elementos de tipo string de la lista, 2) los ordene al revés (es decir, Hola sería aloH y Python, nohtyP) y 3) los muestre por pantalla. <span style = \"font-family: Courier New; background-color: #82b74b; color: #000000; padding: 3px; \">NM</span> **(0.5 puntos)**"
   ]
  },
  {
   "cell_type": "code",
   "execution_count": null,
   "metadata": {
    "colab": {
     "base_uri": "https://localhost:8080/"
    },
    "executionInfo": {
     "elapsed": 356,
     "status": "ok",
     "timestamp": 1680862736047,
     "user": {
      "displayName": "Manuel Rojas Garcia",
      "userId": "01932368244221494376"
     },
     "user_tz": -120
    },
    "id": "fGc-SEh6rChy",
    "outputId": "437b9d30-1a8f-45dc-de14-249f008c345f"
   },
   "outputs": [
    {
     "name": "stdout",
     "output_type": "stream",
     "text": [
      "False\n",
      "True\n",
      "False\n",
      "True\n",
      "False\n",
      "\n",
      "Hola\n",
      "Python\n",
      "aloH\n",
      "nohtyP\n"
     ]
    }
   ],
   "source": [
    "# 1 Como no indica que tipo de elementos necesitamos recurro a isintance para dar un valor boleano si es verdadero o falso en la lista. \n",
    "#Si es str imprimirá true, sino lo es, imprimira false. Se incluye un print adicional para incluir un espacio\n",
    "\n",
    "Elemento1 = isinstance(lista[0],str)\n",
    "print(Elemento1) \n",
    "Elemento2 = isinstance(lista[1],str)\n",
    "print(Elemento2)\n",
    "Elemento3 = isinstance(lista[2],str)\n",
    "print(Elemento3) \n",
    "Elemento4 = isinstance(lista[3],str)\n",
    "print(Elemento4)\n",
    "Elemento5 = isinstance(lista[4],str)\n",
    "print(Elemento5)\n",
    "print()\n",
    "\n",
    "#2 Se imprime los elementos de la lista 1 y 3 ya que son los str. Estos elementos se imprimen al reves con [:::] siendo el primero el comienzo (se pone sin valor), el segundo,\n",
    "# el final del elemento (no se selecciona para que sea completo) y el tercer valor para que vaya a la inversa.\n",
    "print(lista[1])\n",
    "print(lista[3])\n",
    "print(lista[1][::-1])\n",
    "print(lista[3][::-1])\n"
   ]
  },
  {
   "cell_type": "markdown",
   "metadata": {
    "id": "e4ByQH5lrChy"
   },
   "source": [
    "c) Escribe un código que, dado un rango de números de 1 a 25, guarde los números primos en una lista. Muestra después por pantalla los elementos de la lista.<span style = \"font-family: Courier New; background-color: #ffcc5c; color: #000000; padding: 3px; \">EG</span>  **(1 punto)**"
   ]
  },
  {
   "cell_type": "markdown",
   "metadata": {
    "id": "l2bho3n2rChy"
   },
   "source": [
    "**Nota:** Puedes consultar cómo detectar si un número es primero en este post de [stack overflow](https://stackoverflow.com/questions/56558234/checking-prime-number-in-python/56558320)."
   ]
  },
  {
   "cell_type": "code",
   "execution_count": null,
   "metadata": {
    "colab": {
     "base_uri": "https://localhost:8080/"
    },
    "executionInfo": {
     "elapsed": 480,
     "status": "ok",
     "timestamp": 1680863257758,
     "user": {
      "displayName": "Manuel Rojas Garcia",
      "userId": "01932368244221494376"
     },
     "user_tz": -120
    },
    "id": "VKaJx4CCrChz",
    "outputId": "8a76be4c-a382-4f31-c72b-9d80f746bb57"
   },
   "outputs": [
    {
     "name": "stdout",
     "output_type": "stream",
     "text": [
      "[2, 3, 5, 7, 11, 13, 17, 19, 23]\n",
      "[2, 3, 5, 7, 11, 13, 17, 19, 23]\n"
     ]
    }
   ],
   "source": [
    "#Utilizo un sistema más sencillo (para mi) creando listas descartando los elementos hasta obtener los primos\n",
    "#Elimino los impares (incluyendo el 2), los divisibles entre 3 (incluyendo el 3), los divisibles entre 5 (incluyendo el 5).\n",
    "#Cambio el nombre de la variable a primos\n",
    "impar = []\n",
    "tercio = []\n",
    "quinto = []\n",
    "primos = []\n",
    "\n",
    "for n in list(range(2,26)):\n",
    "  if n % 2 != 0:\n",
    "    impar.append(n)\n",
    "  elif n == 2:\n",
    "    impar.append(n)\n",
    "for m in impar:\n",
    "  if m % 3 !=0:\n",
    "    tercio.append(m)\n",
    "  elif m == 3:\n",
    "    tercio.append(m)\n",
    "for o in tercio:\n",
    "  if o % 5 != 0:\n",
    "    quinto.append(o)\n",
    "  elif o == 5:\n",
    "    quinto.append(o)\n",
    "primos = quinto\n",
    "print(primos)\n",
    "\n",
    "\n",
    "#rehago el código ya que para el siguiente ejercicio no funciona usando la web del link mezclando varios conceptos que aparecen en los ejemplos\n",
    "#Creo un buble y calculo si el resto de la raiz cuadrada del rango +1 es igual a 0 no es primo, sino si es primo.\n",
    "#Para encontrar como realizar una raiz cuadrada uso esta referencia https://appgametutoriales.com/raiz-cuadrada-en-python-sqrt-python/\n",
    "\n",
    "\n",
    "\n",
    "primos = []\n",
    "rango = list(range(2,26))\n",
    "\n",
    "for i in rango:\n",
    "    sonprimos = True\n",
    "    for n in range(2, int(i ** 0.5) + 1):\n",
    "       if i % n == 0:\n",
    "          sonprimos = False\n",
    "          break\n",
    "    if sonprimos:\n",
    "       primos.append(i)\n",
    "\n",
    "print(primos)\n",
    "\n",
    "\n",
    "  \n",
    "\n"
   ]
  },
  {
   "cell_type": "markdown",
   "metadata": {
    "id": "x2x8sgyjrChz"
   },
   "source": [
    "### Ejercicio 2\n",
    "\n",
    "En este ejercicio vamos a crear una calculadora de números primos (**2.75 puntos**): \n",
    "\n",
    "a) Pon el código del ejercicio 1c) en forma de función. Debe cumplir los siguientes puntos:\n",
    "- Como entrada (*input*), especifica el número máximo que se desea recorrer (por ejemplo, en el ejercicio anterior, el número máximo era 25).\n",
    "- Como salida (*output*), debe devolver la lista de números primos.\n",
    "\n",
    "<span style = \"font-family: Courier New; background-color: #82b74b; color: #000000; padding: 3px; \">NM</span> **(1 punto)** "
   ]
  },
  {
   "cell_type": "code",
   "execution_count": null,
   "metadata": {
    "colab": {
     "base_uri": "https://localhost:8080/"
    },
    "executionInfo": {
     "elapsed": 4398,
     "status": "ok",
     "timestamp": 1680863616377,
     "user": {
      "displayName": "Manuel Rojas Garcia",
      "userId": "01932368244221494376"
     },
     "user_tz": -120
    },
    "id": "bx3Br45HrChz",
    "outputId": "07495745-d3a5-47cd-bb3f-94100a7f6677"
   },
   "outputs": [
    {
     "name": "stdout",
     "output_type": "stream",
     "text": [
      "Introduzca número para comprobar si es primo\n",
      "(máximo25)31\n",
      "el número no es primo\n"
     ]
    }
   ],
   "source": [
    "#Aplicamos el ejemplo del link con nuestro codigo, introduciendo input y unas condiciones de if + else para que imprima los números.\n",
    "\n",
    "num = int(input(\"Introduzca número para comprobar si es primo\\n(máximo25)\"))\n",
    "\n",
    "primos = []\n",
    "rango = list(range(2, 26))\n",
    "\n",
    "for i in rango:\n",
    "    sonprimos = True\n",
    "    for n in range(2, int(i ** 0.5) + 1):\n",
    "        if i % n == 0:\n",
    "            sonprimos = False\n",
    "            break\n",
    "    if sonprimos:\n",
    "        primos.append(i)\n",
    "\n",
    "if num in primos:\n",
    "    print(\"el número es primo\", primos)\n",
    "else:\n",
    "    print(\"el número no es primo\")\n",
    "\n",
    "\n"
   ]
  },
  {
   "cell_type": "markdown",
   "metadata": {
    "id": "3MuZVo0BrChz"
   },
   "source": [
    "b) Utiliza los casos de prueba detallados en la tabla siguiente para comprobar que tu código funciona correctamente. <span style = \"font-family: Courier New; background-color: #82b74b; color: #000000; padding: 3px; \">NM</span> **(0.25 puntos)**"
   ]
  },
  {
   "cell_type": "markdown",
   "metadata": {
    "id": "5lxGQN8srChz"
   },
   "source": [
    "| máximo | lista resultado  | \n",
    "| --- | --- |\n",
    "| 9 | [2, 3, 5, 7] | \n",
    "| 15 | [2, 3, 5, 7, 11, 13] | \n",
    "| 50 | [2, 3, 5, 7, 11, 13, 17, 19, 23, 29, 31, 37, 41, 43, 47] |"
   ]
  },
  {
   "cell_type": "code",
   "execution_count": null,
   "metadata": {
    "colab": {
     "base_uri": "https://localhost:8080/"
    },
    "executionInfo": {
     "elapsed": 2738,
     "status": "ok",
     "timestamp": 1680863626759,
     "user": {
      "displayName": "Manuel Rojas Garcia",
      "userId": "01932368244221494376"
     },
     "user_tz": -120
    },
    "id": "3MQ3rnn1rCh0",
    "outputId": "8201ad5d-d7c1-44e3-cee0-69d092652f8c"
   },
   "outputs": [
    {
     "name": "stdout",
     "output_type": "stream",
     "text": [
      "Introduzca número para comprobar si es primo\n",
      "(máximo50)31\n",
      "el número es primo [2, 3, 5, 7, 11, 13, 17, 19, 23, 29, 31]\n"
     ]
    }
   ],
   "source": [
    "# Se usa lambda porque es el último ejercicio que realizo, para conseguir introducir la linea de filtro hago una busqueda por diferentes web hasta encontrar un resultado.\n",
    "# Referencia - https://python-course.eu/advanced-python/lambda-filter-reduce-map.php\n",
    "# Cambio el rango para introducir el número 50\n",
    "num = int(input(\"Introduzca número para comprobar si es primo\\n(máximo50)\"))\n",
    "\n",
    "primos = []\n",
    "rango = list(range(2, 50))\n",
    "\n",
    "for i in rango:\n",
    "    sonprimos = True\n",
    "    for n in range(2, int(i ** 0.5) + 1):\n",
    "        if i % n == 0:\n",
    "            sonprimos = False\n",
    "            break\n",
    "    if sonprimos:\n",
    "        primos.append(i)\n",
    "\n",
    "primoshastanum = list(filter(lambda x: x <= num, primos))\n",
    "if num in primos:\n",
    "    print(\"el número es primo\", primoshastanum)\n",
    "else:\n",
    "    print(\"el número no es primo\",primoshastanum)\n"
   ]
  },
  {
   "cell_type": "markdown",
   "metadata": {
    "id": "f_bDnA3TrCh0"
   },
   "source": [
    "c) La calculadora funciona bien, pero nos hemos dado cuenta de que si el usuario introduce por error un valor que no sea un número, todo el programa falla. Para evitar esta situación, utiliza tu conocimiento sobre gestión de errores y excepciones para obtener el siguiente resultado:\n",
    "\n",
    "- El usuario tiene que introducir el valor por pantalla. <span style = \"font-family: Courier New; background-color: #82b74b; color: #000000; padding: 3px; \">NM</span> (**0.5 puntos**)\n",
    "- Cuando el usuario introduzca un valor erróneo, el programa le avisará, en lugar de fallar directamente. <span style = \"font-family: Courier New; background-color: #82b74b; color: #000000; padding: 3px; \">NM</span> (**0.5 puntos**)\n",
    "- Una vez que el usuario ha sido avisado, el programa permite introducir el valor de nuevo una vez más. <span style = \"font-family: Courier New; background-color: #82b74b; color: #000000; padding: 3px; \">NM</span> (**0.5 puntos**)\n",
    "\n",
    "(**1.5 puntos**)"
   ]
  },
  {
   "cell_type": "code",
   "execution_count": null,
   "metadata": {
    "colab": {
     "base_uri": "https://localhost:8080/"
    },
    "executionInfo": {
     "elapsed": 5504,
     "status": "ok",
     "timestamp": 1680863785536,
     "user": {
      "displayName": "Manuel Rojas Garcia",
      "userId": "01932368244221494376"
     },
     "user_tz": -120
    },
    "id": "MMjSsX_-rCh0",
    "outputId": "b2830455-d782-4865-c29a-4030c2d492b0"
   },
   "outputs": [
    {
     "name": "stdout",
     "output_type": "stream",
     "text": [
      "Introduzca número para comprobar si es primo\n",
      "(máximo50)a\n",
      "Introduzca un números, no letras\n",
      "el número es primo [2, 3]\n",
      "Introduzca número para comprobar si es primo\n",
      "(máximo50)b\n",
      "Introduzca un números, no letras\n",
      "el número es primo [2, 3]\n"
     ]
    }
   ],
   "source": [
    "#https://docs.python.org/3/tutorial/errors.html\n",
    "#Encuentro en la página superior try y except y los incluyo en el código.\n",
    "#Copio el código 2 veces para poder usar la consola nuevamente, con un comando while true como indica la web no consigo que funcione.\n",
    "#No encuentro lógica a que aparezcan números primos cuando introduzco un string, guarda los datos buscados anteriormente.\n",
    "#El código no es correcto al 100% espero la corrección ya no encuentro lógica a mi error.\n",
    "\n",
    "\n",
    "try:\n",
    "    num = int(input(\"Introduzca número para comprobar si es primo\\n(máximo50)\"))\n",
    "    \n",
    "except ValueError:\n",
    "    print(\"Introduzca un números, no letras\")\n",
    "   \n",
    "\n",
    "primos = []\n",
    "rango = list(range(2, 50))\n",
    "\n",
    "for i in rango:\n",
    "    sonprimos = True\n",
    "    for n in range(2, int(i ** 0.5) + 1):\n",
    "        if i % n == 0:\n",
    "            sonprimos = False\n",
    "            break\n",
    "    if sonprimos:\n",
    "        primos.append(i)\n",
    "\n",
    "primoshastanum = list(filter(lambda x: x <= num, primos))\n",
    "if num in primos:\n",
    "    print(\"el número es primo\", primoshastanum)\n",
    "else:\n",
    "    print(\"el número no es primo\",primoshastanum)\n",
    "\n",
    "try:\n",
    "    num = int(input(\"Introduzca número para comprobar si es primo\\n(máximo50)\"))\n",
    "    \n",
    "except ValueError:\n",
    "    print(\"Introduzca un números, no letras\")\n",
    "   \n",
    "\n",
    "primos = []\n",
    "rango = list(range(2, 50))\n",
    "\n",
    "for i in rango:\n",
    "    sonprimos = True\n",
    "    for n in range(2, int(i ** 0.5) + 1):\n",
    "        if i % n == 0:\n",
    "            sonprimos = False\n",
    "            break\n",
    "    if sonprimos:\n",
    "        primos.append(i)\n",
    "\n",
    "primoshastanum = list(filter(lambda x: x <= num, primos))\n",
    "if num in primos:\n",
    "    print(\"el número es primo\", primoshastanum)\n",
    "else:\n",
    "    print(\"el número no es primo\",primoshastanum)\n",
    "\n",
    "\n"
   ]
  },
  {
   "cell_type": "markdown",
   "metadata": {
    "id": "ic5fxyDLrCh0"
   },
   "source": [
    "### Ejercicio 3"
   ]
  },
  {
   "cell_type": "markdown",
   "metadata": {
    "id": "VFdEcYlsrCh0"
   },
   "source": [
    "Tal y como hemos visto en la teoría, las *list comprehensions* son muy útiles para crear listas en una sola línea de código. (**1.75 puntos**)\n",
    "\n",
    "\n",
    "a) A continuación, te proponemos que transformes los códigos siguientes a *list comprehensions*: <span style = \"font-family: Courier New; background-color: #82b74b; color: #000000; padding: 3px; \">NM</span> (**1 punto**)"
   ]
  },
  {
   "cell_type": "code",
   "execution_count": null,
   "metadata": {
    "colab": {
     "base_uri": "https://localhost:8080/"
    },
    "executionInfo": {
     "elapsed": 336,
     "status": "ok",
     "timestamp": 1680863816543,
     "user": {
      "displayName": "Manuel Rojas Garcia",
      "userId": "01932368244221494376"
     },
     "user_tz": -120
    },
    "id": "S8mG9wlKrCh4",
    "outputId": "51e5428a-665f-43cd-b06f-2a002af93f57"
   },
   "outputs": [
    {
     "name": "stdout",
     "output_type": "stream",
     "text": [
      "[0, 3, 12, 33, 72, 135, 228]\n"
     ]
    }
   ],
   "source": [
    "#a1) \n",
    "\n",
    "result = []\n",
    "\n",
    "for i in range(7):\n",
    "        result.append(i**3+2*i)\n",
    "    \n",
    "print(result)"
   ]
  },
  {
   "cell_type": "code",
   "execution_count": null,
   "metadata": {
    "colab": {
     "base_uri": "https://localhost:8080/"
    },
    "executionInfo": {
     "elapsed": 744,
     "status": "ok",
     "timestamp": 1680364919087,
     "user": {
      "displayName": "Manuel Rojas Garcia",
      "userId": "01932368244221494376"
     },
     "user_tz": -120
    },
    "id": "Fs6zZ2-UrCh5",
    "outputId": "87662978-020d-45e6-ba32-873c267f7a87"
   },
   "outputs": [
    {
     "name": "stdout",
     "output_type": "stream",
     "text": [
      "[0, 3, 12, 33, 72, 135, 228]\n"
     ]
    }
   ],
   "source": [
    "# Se aplica la teoria, indicando el calculo inicialmente sobre un for \n",
    "\n",
    "result = [i**3+2*i for i in range(7)]\n",
    "print(result)"
   ]
  },
  {
   "cell_type": "code",
   "execution_count": null,
   "metadata": {
    "colab": {
     "base_uri": "https://localhost:8080/"
    },
    "executionInfo": {
     "elapsed": 475,
     "status": "ok",
     "timestamp": 1680863831607,
     "user": {
      "displayName": "Manuel Rojas Garcia",
      "userId": "01932368244221494376"
     },
     "user_tz": -120
    },
    "id": "GJyCG7mHrCh5",
    "outputId": "82db598e-5740-47b9-907e-cecc54462930"
   },
   "outputs": [
    {
     "name": "stdout",
     "output_type": "stream",
     "text": [
      "[32, 19, 9, 48, 7, 15, 200, 89]\n"
     ]
    }
   ],
   "source": [
    "#a2)\n",
    "\n",
    "list_elem2 = [16, 17, 7, 24, 5, 13, 100, 87]\n",
    "new_list = []\n",
    "\n",
    "for x in list_elem2:\n",
    "    \n",
    "    if x%2 == 0: \n",
    "        new_list.append(x*2)\n",
    "    else: \n",
    "        new_list.append(x+2)\n",
    "\n",
    "print(new_list)"
   ]
  },
  {
   "cell_type": "code",
   "execution_count": null,
   "metadata": {
    "colab": {
     "base_uri": "https://localhost:8080/"
    },
    "executionInfo": {
     "elapsed": 362,
     "status": "ok",
     "timestamp": 1680863833567,
     "user": {
      "displayName": "Manuel Rojas Garcia",
      "userId": "01932368244221494376"
     },
     "user_tz": -120
    },
    "id": "-qi_9YOArCh5",
    "outputId": "15d96f73-8f0f-42a6-899e-ba9fe33c0b8b"
   },
   "outputs": [
    {
     "name": "stdout",
     "output_type": "stream",
     "text": [
      "[32, 19, 9, 48, 7, 15, 200, 89]\n"
     ]
    }
   ],
   "source": [
    "#Se aplica la teoria teniendo en cuuenta las dos condiciones antes de incluir el for\n",
    "\n",
    "new_list = [x*2 if x%2 == 0 else x+2 for x in list_elem2]\n",
    "print(new_list)\n"
   ]
  },
  {
   "cell_type": "markdown",
   "metadata": {
    "id": "fHbPcPOJrCh6"
   },
   "source": [
    "b) Dada la lista siguiente: \n",
    "**(0.75 puntos)**"
   ]
  },
  {
   "cell_type": "code",
   "execution_count": null,
   "metadata": {
    "id": "sSz2nTenrCh6"
   },
   "outputs": [],
   "source": [
    "lista=[10, \"python\", 3 , \"UOC\", True]"
   ]
  },
  {
   "cell_type": "markdown",
   "metadata": {
    "id": "o_-glGASrCh6"
   },
   "source": [
    "b1) Utiliza una *list comprehension* para detectar los strings de la lista y luego muestra el resultado por pantalla. <span style = \"font-family: Courier New; background-color: #82b74b; color: #000000; padding: 3px; \">NM</span> **(0.5 puntos)**"
   ]
  },
  {
   "cell_type": "code",
   "execution_count": null,
   "metadata": {
    "colab": {
     "base_uri": "https://localhost:8080/"
    },
    "executionInfo": {
     "elapsed": 441,
     "status": "ok",
     "timestamp": 1680863844357,
     "user": {
      "displayName": "Manuel Rojas Garcia",
      "userId": "01932368244221494376"
     },
     "user_tz": -120
    },
    "id": "Au1aHEjXrCh6",
    "outputId": "44c76157-9872-48a1-94ac-95b721e08154"
   },
   "outputs": [
    {
     "name": "stdout",
     "output_type": "stream",
     "text": [
      "['python', 'UOC']\n"
     ]
    }
   ],
   "source": [
    "#Se aplica la teoria de lambda incluyendo isinstance y verificar que elementos son str en la lista\n",
    "print(list(filter(lambda x: isinstance(x, str), lista)))\n",
    "\n"
   ]
  },
  {
   "cell_type": "markdown",
   "metadata": {
    "id": "3MTnYf9rrCh6"
   },
   "source": [
    "b2) Usa los casos de prueba detallados en la tabla siguiente para comprobar que tu código funciona correctamente. <span style = \"font-family: Courier New; background-color: #82b74b; color: #000000; padding: 3px; \">NM</span> **(0.25 puntos)**"
   ]
  },
  {
   "cell_type": "markdown",
   "metadata": {
    "id": "tMXrl4-UrCh7"
   },
   "source": [
    "| lista | resultado |\n",
    "| --- | --- | \n",
    "| ['hola', False, 25, 41, True]| ['hola'] | \n",
    "| [\"oso\", \"perro\", \"gato\" , \"conejo\", True] | ['oso', 'perro', 'gato', 'conejo'] | \n",
    "| [44, 7, 26, 14, 100] | [] | \n"
   ]
  },
  {
   "cell_type": "code",
   "execution_count": null,
   "metadata": {
    "colab": {
     "base_uri": "https://localhost:8080/"
    },
    "executionInfo": {
     "elapsed": 473,
     "status": "ok",
     "timestamp": 1680863930078,
     "user": {
      "displayName": "Manuel Rojas Garcia",
      "userId": "01932368244221494376"
     },
     "user_tz": -120
    },
    "id": "i0cqIwTvrCh7",
    "outputId": "980165e0-7062-4061-bc57-2c1c5f5ab380"
   },
   "outputs": [
    {
     "name": "stdout",
     "output_type": "stream",
     "text": [
      "['hola']\n",
      "['oso', 'perro', 'gato', 'conejo']\n",
      "[]\n"
     ]
    }
   ],
   "source": [
    "#Se aplica la teoria de lambda incluyendo isinstance y verificar que elementos son str en la lista, pero esta vez en 3 listas.\n",
    "\n",
    "lista1 = ['hola', False, 25, 41, True]\n",
    "lista2 = [\"oso\", \"perro\", \"gato\" , \"conejo\", True]\t\n",
    "lista3 = [44, 7, 26, 14, 100]\n",
    "\n",
    "print(list(filter(lambda x: isinstance(x,str), lista1)))\n",
    "print(list(filter(lambda x: isinstance(x,str), lista2)))\n",
    "print(list(filter(lambda x: isinstance(x,str), lista3)))"
   ]
  },
  {
   "cell_type": "markdown",
   "metadata": {
    "id": "pDskaI0erCh7"
   },
   "source": [
    "c) Hemos creado la siguiente list comprehension y nos hemos fijado en que como resultado tenemos una lista de `None`. Piensa y explica por qué obtenemos este resultado.(**Opcional**)"
   ]
  },
  {
   "cell_type": "code",
   "execution_count": 38,
   "metadata": {
    "colab": {
     "base_uri": "https://localhost:8080/"
    },
    "executionInfo": {
     "elapsed": 514,
     "status": "ok",
     "timestamp": 1680864455074,
     "user": {
      "displayName": "Manuel Rojas Garcia",
      "userId": "01932368244221494376"
     },
     "user_tz": -120
    },
    "id": "rK21W_GRrCh7",
    "outputId": "d5e5bc72-4018-4d3a-ee01-dfa82d2b4132"
   },
   "outputs": [
    {
     "name": "stdout",
     "output_type": "stream",
     "text": [
      "El gato es un felino\n",
      "El perro no es un felino\n",
      "El raton no es un felino\n",
      "El panda no es un felino\n"
     ]
    },
    {
     "data": {
      "text/plain": [
       "[None, None, None, None]"
      ]
     },
     "execution_count": 38,
     "metadata": {},
     "output_type": "execute_result"
    }
   ],
   "source": [
    "#c)Se incluye un bucle for dentro de print, se debe aplicar antes para que termine de hacer todas las interacciones y luego imprimir el resultado.\n",
    "\n",
    "# Creamos las listas\n",
    "animales = ['gato', 'perro', 'raton','panda']\n",
    "felino = ['gato']\n",
    "\n",
    "# Mostramos el resultado por pantalla\n",
    "[print(f\"El {animal} es un felino\") if animal in felino else print(f\"El {animal} no es un felino\")for animal in animales]"
   ]
  },
  {
   "cell_type": "markdown",
   "metadata": {
    "id": "p8o8JBCfrCh7"
   },
   "source": [
    "### Ejercicio 4"
   ]
  },
  {
   "cell_type": "markdown",
   "metadata": {
    "id": "vrp7HZ7orCh8"
   },
   "source": [
    "Mientras que las *list comprehensions* se utilizan para crear listas, la lambda es una función que se puede procesar como otras funciones y, por tanto, devolver valores o listas. En este ejercicio pondremos en práctica distintas funcionalidades de este tipo de funciones.\n",
    "\n",
    "En los siguientes apartados, completa el código escribiendo la función lambda que realice la función indicada. Los guiones --- indican dónde deberías poner la función lambda.\n",
    "\n",
    "(**1.25 puntos**)\n",
    "\n",
    "\n",
    "a) Dada la siguiente lista (list_str), escribe una función lambda que devuelva los elementos de la lista que acaban en \"o\". Muestra los elementos por pantalla. <span style = \"font-family: Courier New; background-color: #ffcc5c; color: #000000; padding: 3px; \">EG</span> (**0.25 puntos**)\n",
    "\n",
    "\n",
    "list_str = [\"hello\",\"hola\",\"salut\",\"ciao\", \"hallo\", \"hi\", \"konnichiwa\"] \n",
    "\n",
    "list(filter(lambda x: ---, list_str))"
   ]
  },
  {
   "cell_type": "code",
   "execution_count": null,
   "metadata": {
    "colab": {
     "base_uri": "https://localhost:8080/"
    },
    "executionInfo": {
     "elapsed": 228,
     "status": "ok",
     "timestamp": 1680159789765,
     "user": {
      "displayName": "Manuel Rojas Garcia",
      "userId": "01932368244221494376"
     },
     "user_tz": -120
    },
    "id": "97uaJbqErCh8",
    "outputId": "a99cf48a-402c-4428-8f95-93412264c44d"
   },
   "outputs": [
    {
     "data": {
      "text/plain": [
       "['hello', 'ciao', 'hallo']"
      ]
     },
     "execution_count": 12,
     "metadata": {},
     "output_type": "execute_result"
    }
   ],
   "source": [
    "list_str = [\"hello\",\"hola\",\"salut\",\"ciao\", \"hallo\", \"hi\", \"konnichiwa\"]\n",
    "\n",
    "list(filter(lambda x: x[-1] == 'o', list_str))\n"
   ]
  },
  {
   "cell_type": "markdown",
   "metadata": {
    "id": "zl8yfJ_trCh8"
   },
   "source": [
    "b) Dada la lista del apartado a), escribe una función lambda que se quede con el elemento de la lista de mayor longitud (es decir, el string más largo). Muestra el elemento por pantalla.<span style = \"font-family: Courier New; background-color: #ffcc5c; color: #000000; padding: 3px; \">EG</span> (**0.5 puntos**)\n",
    "\n",
    "max_list = max(list_str, key = lambda x: ---)"
   ]
  },
  {
   "cell_type": "code",
   "execution_count": 39,
   "metadata": {
    "colab": {
     "base_uri": "https://localhost:8080/",
     "height": 36
    },
    "executionInfo": {
     "elapsed": 426,
     "status": "ok",
     "timestamp": 1680864512032,
     "user": {
      "displayName": "Manuel Rojas Garcia",
      "userId": "01932368244221494376"
     },
     "user_tz": -120
    },
    "id": "UDiqO6ParCh8",
    "outputId": "909b6bc9-2785-4360-c51f-4aa2016e4d7c"
   },
   "outputs": [
    {
     "data": {
      "application/vnd.google.colaboratory.intrinsic+json": {
       "type": "string"
      },
      "text/plain": [
       "'konnichiwa'"
      ]
     },
     "execution_count": 39,
     "metadata": {},
     "output_type": "execute_result"
    }
   ],
   "source": [
    "#Se aplica la teoria, usamos lambda con len para obtener el resultado con más caracteres de la lista list_str\n",
    "#imprimimos el valor máximo.\n",
    "\n",
    "list_str = [\"hello\",\"hola\",\"salut\",\"ciao\", \"hallo\", \"hi\", \"konnichiwa\"]\n",
    "\n",
    "max(list_str, key=lambda x: len(x))\n",
    "\n"
   ]
  },
  {
   "cell_type": "markdown",
   "metadata": {
    "id": "5JHBoXY5rCh8"
   },
   "source": [
    "c) Escribe una expresión que, dada una lista de números, te cree otra lista con los elementos a la raiz quadrada. Puedes utilizar la función [pow()](https://docs.python.org/3/library/functions.html#pow) para especificar el orden de la potencia (por ejemplo, pow(x, 0.5) hace la raiz cuadrada). \n",
    "\n",
    "En este ejercicio no os damos el código para completar, sino que deberas escribir toda la expresión (no sólo la función lambda). Puede ser útil explorar la funcionalidad de [map()](https://cs.stanford.edu/people/nick/py/python-map-lambda.html). <span style = \"font-family: Courier New; background-color: #ffcc5c; color: #000000; padding: 3px; \">EG</span> (**0.5 puntos**)"
   ]
  },
  {
   "cell_type": "code",
   "execution_count": null,
   "metadata": {
    "colab": {
     "base_uri": "https://localhost:8080/"
    },
    "executionInfo": {
     "elapsed": 3,
     "status": "ok",
     "timestamp": 1680160017142,
     "user": {
      "displayName": "Manuel Rojas Garcia",
      "userId": "01932368244221494376"
     },
     "user_tz": -120
    },
    "id": "BxDuCrpOrCh8",
    "outputId": "f734b701-6879-436e-cf35-58474a2021ca"
   },
   "outputs": [
    {
     "data": {
      "text/plain": [
       "[94, 12, 61, 49, 0]"
      ]
     },
     "execution_count": 18,
     "metadata": {},
     "output_type": "execute_result"
    }
   ],
   "source": [
    "#Se utiliza la teoria. Dentro de una lista números se aplica lambda con la funcion pow. \n",
    "\n",
    "numeros = [511,20,35,478,0]\n",
    "list(map(lambda n: pow(n,2, mod=97), numeros))\n"
   ]
  },
  {
   "cell_type": "markdown",
   "metadata": {
    "id": "nab1PxqGrCh9"
   },
   "source": [
    "### Ejercicio 5"
   ]
  },
  {
   "cell_type": "markdown",
   "metadata": {
    "id": "XyP0BPMCrCh9"
   },
   "source": [
    "Las funciones `range`, `ennumerate` y `zip` se utilizan mucho en la programación en Python. Por eso, en este ejercicio vamos a trabajar sus usos más habituales. \n",
    "**(1.25 puntos)**"
   ]
  },
  {
   "cell_type": "markdown",
   "metadata": {
    "id": "FbA3GMQzrCh9"
   },
   "source": [
    "a) Utiliza la función `range` para mostrar por pantalla los números impares entre 1 y 15 (ambos incluidos): <span style = \"font-family: Courier New; background-color: #82b74b; color: #000000; padding: 3px; \">NM</span> (**0.25 puntos**)"
   ]
  },
  {
   "cell_type": "code",
   "execution_count": 48,
   "metadata": {
    "colab": {
     "base_uri": "https://localhost:8080/"
    },
    "executionInfo": {
     "elapsed": 356,
     "status": "ok",
     "timestamp": 1680865795849,
     "user": {
      "displayName": "Manuel Rojas Garcia",
      "userId": "01932368244221494376"
     },
     "user_tz": -120
    },
    "id": "Oqu0okD6rCh9",
    "outputId": "07026304-584d-48a3-b855-e67189c52f86"
   },
   "outputs": [
    {
     "data": {
      "text/plain": [
       "[1, 3, 5, 7, 9, 11, 13, 15]"
      ]
     },
     "execution_count": 48,
     "metadata": {},
     "output_type": "execute_result"
    }
   ],
   "source": [
    "#Se aplica la teoria creando desde un lambda con la condicion de que imprima aquellos numeros del rango que no son divisibles entre 2. \n",
    "\n",
    "list(filter(lambda x: x%2 != 0,list(range(1,16))))\n",
    "\n",
    "\n",
    "\n"
   ]
  },
  {
   "cell_type": "markdown",
   "metadata": {
    "id": "9HmSuyN4rCh9"
   },
   "source": [
    "b) Dada una lista, utiliza `ennumerate` para crear un diccionario que tenga como llave (key) el índice del elemento y, como valor, el elemento de la lista. En este caso, queremos que el índice no empiece con 0, sinó con 100. Es decir, el primero elemento seria 100: pan, el segundo, 101: leche, etc. <span style = \"font-family: Courier New; background-color: #ffcc5c; color: #000000; padding: 3px; \">EG</span> (**0.5 puntos**)\n",
    "\n",
    "**Nota**: Revisa la documentación de la función [enumerate](https://docs.python.org/3/library/functions.html#enumerate) para tener más información. "
   ]
  },
  {
   "cell_type": "code",
   "execution_count": 50,
   "metadata": {
    "executionInfo": {
     "elapsed": 3,
     "status": "ok",
     "timestamp": 1680865995617,
     "user": {
      "displayName": "Manuel Rojas Garcia",
      "userId": "01932368244221494376"
     },
     "user_tz": -120
    },
    "id": "68umslHvrCh9"
   },
   "outputs": [],
   "source": [
    "# Creamos la lista\n",
    "lista_compra = ['pan', 'leche', 'naranjas', 'galletas', 'patatas']"
   ]
  },
  {
   "cell_type": "code",
   "execution_count": 51,
   "metadata": {
    "colab": {
     "base_uri": "https://localhost:8080/"
    },
    "executionInfo": {
     "elapsed": 4,
     "status": "ok",
     "timestamp": 1680865997057,
     "user": {
      "displayName": "Manuel Rojas Garcia",
      "userId": "01932368244221494376"
     },
     "user_tz": -120
    },
    "id": "U2gAVnv9rCh-",
    "outputId": "3d648305-4d41-4f61-e6f8-5476f96e8f6e"
   },
   "outputs": [
    {
     "name": "stdout",
     "output_type": "stream",
     "text": [
      "100 pan 101 leche 102 naranjas 103 galletas 104 patatas "
     ]
    }
   ],
   "source": [
    "#Se aplica la teoria con enumerate y se inicializa i con un valor de 100 para que comience en 100.\n",
    "for i, compra in enumerate(lista_compra):\n",
    "  i += 100\n",
    "  print(i, compra, end=\" \")\n",
    "\n",
    "\n"
   ]
  },
  {
   "cell_type": "markdown",
   "metadata": {
    "id": "eR6kibYYrCh-"
   },
   "source": [
    "c) En este apartado estamos explorando al funcionalidad de zip(). Tenemos 3 listas de distintos tamaños, y queremos mostrar sus elementos. ¿Por qué se muestran 3 elementos de cada lista en el primer loop? ¿Por qué solo se muestran 2 elementos de cada lista en el segundo loop? Razona la respuesta. <span style = \"font-family: Courier New; background-color: #82b74b; color: #000000; padding: 3px; \">NM</span> (**0.5 puntos**)\n"
   ]
  },
  {
   "cell_type": "code",
   "execution_count": 52,
   "metadata": {
    "colab": {
     "base_uri": "https://localhost:8080/"
    },
    "executionInfo": {
     "elapsed": 440,
     "status": "ok",
     "timestamp": 1680866039765,
     "user": {
      "displayName": "Manuel Rojas Garcia",
      "userId": "01932368244221494376"
     },
     "user_tz": -120
    },
    "id": "egUK6W-erCh-",
    "outputId": "334b7f08-0ae1-4921-d66c-0e0c2d698255"
   },
   "outputs": [
    {
     "name": "stdout",
     "output_type": "stream",
     "text": [
      "Primer loop: \n",
      "1 ONE\n",
      "2 TWO\n",
      "3 THREE\n",
      "Segundo loop: \n",
      "1 one ONE\n",
      "2 two TWO\n"
     ]
    }
   ],
   "source": [
    "numbersList = [1, 2, 3]\n",
    "str_list = ['one', 'two']\n",
    "numbers_tuple = ('ONE', 'TWO', 'THREE', 'FOUR')\n",
    "\n",
    "print('Primer loop: ')\n",
    "for elem1, elem2 in zip(numbersList, numbers_tuple):\n",
    "    print(elem1, elem2)\n",
    "\n",
    "print('Segundo loop: ')\n",
    "for elem1, elem2, elem3 in  zip(numbersList, str_list, numbers_tuple):\n",
    "    print(elem1, elem2, elem3)\n",
    "    "
   ]
  },
  {
   "cell_type": "code",
   "execution_count": null,
   "metadata": {
    "id": "coJ0luMRrCh-"
   },
   "outputs": [],
   "source": [
    "#Si las listas tienen longitudes diferentes, la iteración se detiene cuando la lista más pequeña se acaba. En el primer loop son 3 ya que el menor es numberslist con 3 elementos\n",
    "#En el segundo loop solo son dos porque el elemento más pequeño str_list solo contiene dos elementos."
   ]
  },
  {
   "cell_type": "markdown",
   "metadata": {
    "id": "Ue08eLvVrCh-"
   },
   "source": [
    "### Ejercicio 6"
   ]
  },
  {
   "cell_type": "markdown",
   "metadata": {
    "id": "bAv1MndVrCh-"
   },
   "source": [
    "En la carpeta `data` podéis encontrar el fichero `boxer_dataset.txt`, un dataset con información de boxeadores profesionales. La primera columna contiene la cabecera, que define cada una de las columnas (Ranking, Surname, Name, Country, Weight y Sex) y, a continuación, tenemos la información de los boxeadores ordenados por su ranking.\n",
    "\n",
    "**(1 punto)**\n",
    "\n",
    "a) Abre el archivo y responde a las siguientes preguntas: <span style = \"font-family: Courier New; background-color: #82b74b; color: #000000; padding: 3px; \">NM</span> **(0.5 puntos)**\n",
    "- ¿Cuántos **boxeadores españoles** hay?\n",
    "- ¿Cuál es el porcentaje de españoles respecto al total de boxeadores? Muestra el resultado con **sólo 2 decimales**.\n",
    "\n",
    "**Nota**: Los apartados a) y b) se tiene que responder utilizando la función `open()`."
   ]
  },
  {
   "cell_type": "code",
   "execution_count": 53,
   "metadata": {
    "colab": {
     "base_uri": "https://localhost:8080/"
    },
    "executionInfo": {
     "elapsed": 26557,
     "status": "ok",
     "timestamp": 1680866080921,
     "user": {
      "displayName": "Manuel Rojas Garcia",
      "userId": "01932368244221494376"
     },
     "user_tz": -120
    },
    "id": "CYijTGgmrCh_",
    "outputId": "d2f18f10-1a33-4c01-aefc-94ab15fd908d"
   },
   "outputs": [
    {
     "name": "stdout",
     "output_type": "stream",
     "text": [
      "Mounted at /content/drive\n",
      "/content/drive/MyDrive/Colab_Notebooks/prog_datasci_3/data\n",
      "El siguiente elemento es español en la lista\n",
      " 173,Garcia, Sergio,ES,154,Male\n",
      "\n",
      "El número total de españoles es 1\n",
      "El siguiente elemento es español en la lista\n",
      " 255,Fernandez, Jon,ES,135,Male\n",
      "\n",
      "El número total de españoles es 2\n",
      "El siguiente elemento es español en la lista\n",
      " 342,Martin, Sandor ,ES,140,Male\n",
      "\n",
      "El número total de españoles es 3\n",
      "El siguiente elemento es español en la lista\n",
      " 455,Martinez, Kiko,ES,126,Male\n",
      "\n",
      "El número total de españoles es 4\n",
      "\n",
      "el porcentaje de españoles respecto a la lista es de:\n"
     ]
    },
    {
     "data": {
      "text/plain": [
       "0.86"
      ]
     },
     "execution_count": 53,
     "metadata": {},
     "output_type": "execute_result"
    }
   ],
   "source": [
    "#Se aplica la teoria para determinar el número de boxeadores españoles hay y el porcentaje.\n",
    "\n",
    "from google.colab import drive\n",
    "drive.mount('/content/drive')   \n",
    "%cd /content/drive/MyDrive/Colab_Notebooks/prog_datasci_3/data\n",
    "\n",
    "out = open('boxer_dataset.txt')\n",
    "f = open('boxer_dataset.txt')\n",
    "contador = 0\n",
    "for line in f:\n",
    "  if \"ES\" in line:\n",
    "    contador += 1\n",
    "    españoles = line\n",
    "    \n",
    "    print(\"El siguiente elemento es español en la lista\\n\", españoles, end=\"\")\n",
    "    print()\n",
    "    print(\"El número total de españoles es\", contador)\n",
    "\n",
    "total = 0\n",
    "f = open('boxer_dataset.txt')\n",
    "for line in f:\n",
    "    total += 1\n",
    "\n",
    "porcentaje = contador/total*100\n",
    "print()  \n",
    "print(\"el porcentaje de españoles respecto a la lista es de:\")\n",
    "round(porcentaje,2)\n",
    "\n",
    "\n",
    "\n"
   ]
  },
  {
   "cell_type": "markdown",
   "metadata": {
    "id": "XmNSw-JRrCh_"
   },
   "source": [
    "b) Guarda, en un nuevo archivo de texto, sólo la información de los boxeadores que **pesan más de 150** (es decir, aquellas filas donde Weight sea mayor de 150). <span style = \"font-family: Courier New; background-color: #82b74b; color: #000000; padding: 3px; \">NM</span> **(0.5 puntos)**"
   ]
  },
  {
   "cell_type": "code",
   "execution_count": 55,
   "metadata": {
    "colab": {
     "base_uri": "https://localhost:8080/"
    },
    "executionInfo": {
     "elapsed": 3572,
     "status": "ok",
     "timestamp": 1680866232955,
     "user": {
      "displayName": "Manuel Rojas Garcia",
      "userId": "01932368244221494376"
     },
     "user_tz": -120
    },
    "id": "hfRp48NxrCh_",
    "outputId": "bd6eacea-3aac-4eda-8f91-61e2651c409e"
   },
   "outputs": [
    {
     "name": "stdout",
     "output_type": "stream",
     "text": [
      "Drive already mounted at /content/drive; to attempt to forcibly remount, call drive.mount(\"/content/drive\", force_remount=True).\n",
      "/content/drive/MyDrive/Colab_Notebooks/prog_datasci_3/data\n"
     ]
    }
   ],
   "source": [
    "\n",
    "from google.colab import drive\n",
    "drive.mount('/content/drive')   \n",
    "%cd /content/drive/MyDrive/Colab_Notebooks/prog_datasci_3/data\n",
    "\n",
    "\n",
    "with open('boxer_dataset.txt', 'r') as i, open('boxer_dataset_pesos.txt', 'w') as o:\n",
    "    header = next(i)\n",
    "    for line in i:\n",
    "      valores = line.split(',')\n",
    "      peso = int(valores[4])\n",
    "      if peso > 150:\n",
    "        o.write(line)\n",
    "        \n"
   ]
  },
  {
   "cell_type": "markdown",
   "metadata": {
    "id": "eXbZU7FKrCh_"
   },
   "source": [
    "\n",
    "c) En teoría hemos visto también la librería pandas, que nos permite trabajar con archivos de manera muy sencilla. Utilízala para abrir el archivo de texto y muestra las 10 primeras líneas por pantalla. (**Opcional**)"
   ]
  },
  {
   "cell_type": "code",
   "execution_count": null,
   "metadata": {
    "colab": {
     "base_uri": "https://localhost:8080/"
    },
    "executionInfo": {
     "elapsed": 4,
     "status": "ok",
     "timestamp": 1680170559095,
     "user": {
      "displayName": "Manuel Rojas Garcia",
      "userId": "01932368244221494376"
     },
     "user_tz": -120
    },
    "id": "K7NHBHpWrCh_",
    "outputId": "f9f59fe6-38cb-4f0c-cf71-48d2d2a80a2e"
   },
   "outputs": [
    {
     "name": "stdout",
     "output_type": "stream",
     "text": [
      "   Rating     Surname       Name Country  Weight     Sex\n",
      "0       1     Alvarez     Canelo      MX     168    Male\n",
      "1       2     Shields   Claressa      US     154  Female\n",
      "2       3   McCaskill    Jessica      US     147  Female\n",
      "3       4     Estrada    Seniesa      US     105  Female\n",
      "4       5     Serrano     Amanda      PR     126  Female\n",
      "5       6    Marshall   Savannah      GB     160  Female\n",
      "6       7      Taylor      Katie      IE     135  Female\n",
      "7       8       Mayer    Mikaela      US     130  Female\n",
      "8       9       Inoue      Naoya      JP     118    Male\n",
      "9      11  Lomachenko      Vasyl      UA     135    Male\n"
     ]
    }
   ],
   "source": [
    "import pandas as pd\n",
    "\n",
    "\n",
    "data = pd.read_csv(\"boxer_dataset.txt\")\n",
    "new_data = data.head(n=10)\n",
    "print(new_data)"
   ]
  }
 ],
 "metadata": {
  "colab": {
   "provenance": []
  },
  "kernelspec": {
   "display_name": "Python 3 (ipykernel)",
   "language": "python",
   "name": "python3"
  },
  "language_info": {
   "codemirror_mode": {
    "name": "ipython",
    "version": 3
   },
   "file_extension": ".py",
   "mimetype": "text/x-python",
   "name": "python",
   "nbconvert_exporter": "python",
   "pygments_lexer": "ipython3",
   "version": "3.9.13"
  }
 },
 "nbformat": 4,
 "nbformat_minor": 1
}
